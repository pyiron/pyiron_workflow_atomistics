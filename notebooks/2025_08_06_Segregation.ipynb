{
 "cells": [
  {
   "cell_type": "code",
   "execution_count": 1,
   "id": "456d1533",
   "metadata": {},
   "outputs": [],
   "source": [
    "import pyiron_workflow_atomistics.gb.gb_code.csl_generator as csl\n",
    "from pyiron_workflow_atomistics.gb.gb_code.csl_generator import get_theta_m_n_list\n",
    "import numpy as np\n",
    "import pandas as pd\n",
    "from math import degrees\n",
    "\n",
    "from pyiron_workflow_atomistics.gb.gb_code.searcher import get_gbcode_df_multiple_axes, get_gbcode_df\n",
    "from pyiron_workflow_atomistics.gb.gb_code.constructor import construct_GB_from_GBCode\n",
    "\n",
    "from pyiron_workflow_atomistics.dataclass_storage import CalcInputMinimize\n",
    "from pyiron_workflow_lammps.engine import LammpsEngine\n",
    "from pyiron_workflow import Workflow\n",
    "from pyiron_workflow_atomistics.bulk import optimise_cubic_lattice_parameter\n",
    "from ase.build import bulk\n",
    "\n",
    "from pyiron_workflow_atomistics.featurisers import distanceMatrixSiteFeaturiser, voronoiSiteFeaturiser\n",
    "from pyiron_workflow_atomistics.gb.analysis import plot_GB_plane, find_GB_plane\n",
    "from pyiron_workflow_lammps.lammps import lammps_job\n",
    "%load_ext autoreload\n",
    "%autoreload 2"
   ]
  },
  {
   "cell_type": "code",
   "execution_count": 2,
   "id": "686448db",
   "metadata": {},
   "outputs": [
    {
     "name": "stderr",
     "output_type": "stream",
     "text": [
      "2025-08-10 02:18:38,519 - pyiron_log - WARNING - Directory 'test_opt_cubic_cell/strain_000' already exists. Existing files may be overwritten.\n"
     ]
    },
    {
     "name": "stdout",
     "output_type": "stream",
     "text": [
      "test_opt_cubic_cell\n",
      "test_opt_cubic_cell/strain_000\n"
     ]
    },
    {
     "name": "stderr",
     "output_type": "stream",
     "text": [
      "/root/miniconda3/envs/pyiron_workflow_atomistics/lib/python3.13/site-packages/pyiron_lammps/units.py:236: UserWarning: Warning: Couldn't determine the LAMMPS to pyiron unit conversion type of quantity eng. Returning un-normalized quantity\n",
      "  warnings.warn(\n",
      "2025-08-10 02:18:40,791 - pyiron_log - WARNING - Directory 'test_opt_cubic_cell/strain_001' already exists. Existing files may be overwritten.\n"
     ]
    },
    {
     "name": "stdout",
     "output_type": "stream",
     "text": [
      "test_opt_cubic_cell/strain_001\n"
     ]
    },
    {
     "name": "stderr",
     "output_type": "stream",
     "text": [
      "/root/miniconda3/envs/pyiron_workflow_atomistics/lib/python3.13/site-packages/pyiron_lammps/units.py:236: UserWarning: Warning: Couldn't determine the LAMMPS to pyiron unit conversion type of quantity eng. Returning un-normalized quantity\n",
      "  warnings.warn(\n",
      "2025-08-10 02:18:41,548 - pyiron_log - WARNING - Directory 'test_opt_cubic_cell/strain_002' already exists. Existing files may be overwritten.\n"
     ]
    },
    {
     "name": "stdout",
     "output_type": "stream",
     "text": [
      "test_opt_cubic_cell/strain_002\n"
     ]
    },
    {
     "name": "stderr",
     "output_type": "stream",
     "text": [
      "/root/miniconda3/envs/pyiron_workflow_atomistics/lib/python3.13/site-packages/pyiron_lammps/units.py:236: UserWarning: Warning: Couldn't determine the LAMMPS to pyiron unit conversion type of quantity eng. Returning un-normalized quantity\n",
      "  warnings.warn(\n",
      "2025-08-10 02:18:42,275 - pyiron_log - WARNING - Directory 'test_opt_cubic_cell/strain_003' already exists. Existing files may be overwritten.\n"
     ]
    },
    {
     "name": "stdout",
     "output_type": "stream",
     "text": [
      "test_opt_cubic_cell/strain_003\n"
     ]
    },
    {
     "name": "stderr",
     "output_type": "stream",
     "text": [
      "/root/miniconda3/envs/pyiron_workflow_atomistics/lib/python3.13/site-packages/pyiron_lammps/units.py:236: UserWarning: Warning: Couldn't determine the LAMMPS to pyiron unit conversion type of quantity eng. Returning un-normalized quantity\n",
      "  warnings.warn(\n",
      "2025-08-10 02:18:43,021 - pyiron_log - WARNING - Directory 'test_opt_cubic_cell/strain_004' already exists. Existing files may be overwritten.\n"
     ]
    },
    {
     "name": "stdout",
     "output_type": "stream",
     "text": [
      "test_opt_cubic_cell/strain_004\n"
     ]
    },
    {
     "name": "stderr",
     "output_type": "stream",
     "text": [
      "/root/miniconda3/envs/pyiron_workflow_atomistics/lib/python3.13/site-packages/pyiron_lammps/units.py:236: UserWarning: Warning: Couldn't determine the LAMMPS to pyiron unit conversion type of quantity eng. Returning un-normalized quantity\n",
      "  warnings.warn(\n",
      "2025-08-10 02:18:43,736 - pyiron_log - WARNING - Directory 'test_opt_cubic_cell/strain_005' already exists. Existing files may be overwritten.\n"
     ]
    },
    {
     "name": "stdout",
     "output_type": "stream",
     "text": [
      "test_opt_cubic_cell/strain_005\n"
     ]
    },
    {
     "name": "stderr",
     "output_type": "stream",
     "text": [
      "/root/miniconda3/envs/pyiron_workflow_atomistics/lib/python3.13/site-packages/pyiron_lammps/units.py:236: UserWarning: Warning: Couldn't determine the LAMMPS to pyiron unit conversion type of quantity eng. Returning un-normalized quantity\n",
      "  warnings.warn(\n"
     ]
    },
    {
     "data": {
      "text/plain": [
       "{'opt_cubic_cell__equil_struct': Atoms(symbols='Fe2', pbc=True, cell=[2.8554036006730863, 2.8554036006730863, 2.8554036006730863], initial_magmoms=...),\n",
       " 'opt_cubic_cell__a0': 2.8554036006730863,\n",
       " 'opt_cubic_cell__B': 178.2689296133779,\n",
       " 'opt_cubic_cell__equil_energy_per_atom': -4.012989682254272,\n",
       " 'opt_cubic_cell__equil_volume_per_atom': 11.640523523888817,\n",
       " 'opt_cubic_cell__volumes': [21.287097162601995,\n",
       "  21.81268105404494,\n",
       "  22.346845717919777,\n",
       "  22.889660634165235,\n",
       "  23.441195282719992,\n",
       "  24.001519143522813],\n",
       " 'opt_cubic_cell__structures': [Atoms(symbols='Fe2', pbc=True, cell=[[2.77144, 1.6970175625144705e-16, 1.6970175625144705e-16], [0.0, 2.77144, 1.6970175625144705e-16], [0.0, 0.0, 2.77144]]),\n",
       "  Atoms(symbols='Fe2', pbc=True, cell=[[2.794064, 1.7108707671064253e-16, 1.7108707671064253e-16], [0.0, 2.794064, 1.7108707671064253e-16], [0.0, 0.0, 2.794064]]),\n",
       "  Atoms(symbols='Fe2', pbc=True, cell=[[2.816688, 1.72472397169838e-16, 1.72472397169838e-16], [0.0, 2.816688, 1.72472397169838e-16], [0.0, 0.0, 2.816688]]),\n",
       "  Atoms(symbols='Fe2', pbc=True, cell=[[2.839312, 1.7385771762903346e-16, 1.7385771762903346e-16], [0.0, 2.839312, 1.7385771762903348e-16], [0.0, 0.0, 2.839312]]),\n",
       "  Atoms(symbols='Fe2', pbc=True, cell=[[2.861936, 1.7524303808822898e-16, 1.7524303808822898e-16], [0.0, 2.861936, 1.7524303808822898e-16], [0.0, 0.0, 2.861936]]),\n",
       "  Atoms(symbols='Fe2', pbc=True, cell=[[2.88456, 1.7662835854742446e-16, 1.7662835854742446e-16], [0.0, 2.88456, 1.7662835854742449e-16], [0.0, 0.0, 2.88456]])],\n",
       " 'opt_cubic_cell__energies': [-7.92101012987152,\n",
       "  -7.9705262547624,\n",
       "  -8.00413982260715,\n",
       "  -8.02227265819524,\n",
       "  -8.02534193155623,\n",
       "  -8.01401480951098]}"
      ]
     },
     "execution_count": 2,
     "metadata": {},
     "output_type": "execute_result"
    }
   ],
   "source": [
    "inp = CalcInputMinimize()\n",
    "inp.relax_cell = False\n",
    "Engine = LammpsEngine(EngineInput = inp)\n",
    "\n",
    "Engine.working_directory = \"test_opt_cubic_cell\"\n",
    "Engine.command = \"/root/github_dev/lammps/build_eam/lmp -in in.lmp -log minimize.log\"\n",
    "Engine.lammps_log_filepath = \"minimize.log\"\n",
    "Engine.input_script_pair_style = \"eam/fs\"\n",
    "Engine.path_to_model = \"/root/github_dev/pyiron_workflow_atomistics/notebooks/Al-Fe.eam.fs\"\n",
    "\n",
    "structure = bulk(\"Fe\", a=2.828, cubic=True)\n",
    "wf1 = Workflow(Engine.working_directory, delete_existing_savefiles=True)\n",
    "wf1.opt_cubic_cell = optimise_cubic_lattice_parameter(\n",
    "    structure=structure,\n",
    "    name=\"Fe\",\n",
    "    crystalstructure=\"bcc\",\n",
    "    calculation_engine=Engine,\n",
    "    parent_working_directory=\"opt_cubic_cell\",\n",
    "    rattle=0.1,\n",
    "    strain_range=(-0.02, 0.02),\n",
    "    num_points=6,\n",
    ")\n",
    "wf1.run()"
   ]
  },
  {
   "cell_type": "code",
   "execution_count": 3,
   "id": "01b0c5f3",
   "metadata": {},
   "outputs": [
    {
     "name": "stderr",
     "output_type": "stream",
     "text": [
      "Constructing GBs: 100%|██████████| 18/18 [00:54<00:00,  3.04s/it]\n",
      "Processing all axes: 100%|██████████| 1/1 [00:54<00:00, 54.95s/it]\n",
      "Constructing GB structures: 100%|██████████| 26/26 [00:02<00:00, 10.37it/s]\n"
     ]
    },
    {
     "data": {
      "text/html": [
       "<div>\n",
       "<style scoped>\n",
       "    .dataframe tbody tr th:only-of-type {\n",
       "        vertical-align: middle;\n",
       "    }\n",
       "\n",
       "    .dataframe tbody tr th {\n",
       "        vertical-align: top;\n",
       "    }\n",
       "\n",
       "    .dataframe thead th {\n",
       "        text-align: right;\n",
       "    }\n",
       "</style>\n",
       "<table border=\"1\" class=\"dataframe\">\n",
       "  <thead>\n",
       "    <tr style=\"text-align: right;\">\n",
       "      <th></th>\n",
       "      <th>Axis</th>\n",
       "      <th>Sigma</th>\n",
       "      <th>m</th>\n",
       "      <th>n</th>\n",
       "      <th>GB1</th>\n",
       "      <th>GB2</th>\n",
       "      <th>Theta (deg)</th>\n",
       "      <th>Type</th>\n",
       "      <th>n_atoms</th>\n",
       "      <th>canon</th>\n",
       "      <th>dupe</th>\n",
       "      <th>GB_string</th>\n",
       "      <th>structure</th>\n",
       "      <th>structure_natoms</th>\n",
       "      <th>a</th>\n",
       "      <th>b</th>\n",
       "      <th>c</th>\n",
       "    </tr>\n",
       "  </thead>\n",
       "  <tbody>\n",
       "    <tr>\n",
       "      <th>0</th>\n",
       "      <td>[1, 1, 1]</td>\n",
       "      <td>3</td>\n",
       "      <td>3</td>\n",
       "      <td>1</td>\n",
       "      <td>(-1, 1, 0)</td>\n",
       "      <td>(-1, 0, 1)</td>\n",
       "      <td>60.000000</td>\n",
       "      <td>Tilt</td>\n",
       "      <td>12</td>\n",
       "      <td>((-1, -1, 0), (-1, 0, -1))</td>\n",
       "      <td>False</td>\n",
       "      <td>Sig_3_S(-110)_RA(111)_Tilt</td>\n",
       "      <td>(Atom('Fe', [0.0, 0.0, 0.0], index=0), Atom('F...</td>\n",
       "      <td>384</td>\n",
       "      <td>9.891408</td>\n",
       "      <td>13.988564</td>\n",
       "      <td>32.305204</td>\n",
       "    </tr>\n",
       "    <tr>\n",
       "      <th>2</th>\n",
       "      <td>[1, 1, 1]</td>\n",
       "      <td>3</td>\n",
       "      <td>3</td>\n",
       "      <td>1</td>\n",
       "      <td>(1, 1, 1)</td>\n",
       "      <td>(1, 1, 1)</td>\n",
       "      <td>60.000000</td>\n",
       "      <td>Twist</td>\n",
       "      <td>12</td>\n",
       "      <td>((-1, -1, -1), (-1, -1, -1))</td>\n",
       "      <td>False</td>\n",
       "      <td>Sig_3_S(111)_RA(111)_Twist</td>\n",
       "      <td>(Atom('Fe', [0.0, 0.0, 0.0], index=0), Atom('F...</td>\n",
       "      <td>336</td>\n",
       "      <td>8.076301</td>\n",
       "      <td>13.988564</td>\n",
       "      <td>34.619929</td>\n",
       "    </tr>\n",
       "    <tr>\n",
       "      <th>7</th>\n",
       "      <td>[1, 1, 1]</td>\n",
       "      <td>3</td>\n",
       "      <td>3</td>\n",
       "      <td>1</td>\n",
       "      <td>(1, 0, 2)</td>\n",
       "      <td>(2, 0, 1)</td>\n",
       "      <td>60.000000</td>\n",
       "      <td>Mixed</td>\n",
       "      <td>180</td>\n",
       "      <td>((-2, -1, 0), (-1, -2, 0))</td>\n",
       "      <td>False</td>\n",
       "      <td>Sig_3_S(102)_RA(111)_Mixed</td>\n",
       "      <td>(Atom('Fe', [0.0, 0.0, 0.0], index=0), Atom('F...</td>\n",
       "      <td>534</td>\n",
       "      <td>8.566211</td>\n",
       "      <td>19.154630</td>\n",
       "      <td>37.883601</td>\n",
       "    </tr>\n",
       "    <tr>\n",
       "      <th>8</th>\n",
       "      <td>[1, 1, 1]</td>\n",
       "      <td>3</td>\n",
       "      <td>3</td>\n",
       "      <td>1</td>\n",
       "      <td>(-1, 2, -1)</td>\n",
       "      <td>(-2, 1, 1)</td>\n",
       "      <td>60.000000</td>\n",
       "      <td>Symmetric Tilt</td>\n",
       "      <td>12</td>\n",
       "      <td>((-2, -1, -1), (-1, -2, 1))</td>\n",
       "      <td>False</td>\n",
       "      <td>Sig_3_S(-12-1)_RA(111)_SymmetricTilt</td>\n",
       "      <td>(Atom('Fe', [0.0, 0.0, 0.0], index=0), Atom('F...</td>\n",
       "      <td>288</td>\n",
       "      <td>9.891408</td>\n",
       "      <td>8.076301</td>\n",
       "      <td>41.965691</td>\n",
       "    </tr>\n",
       "    <tr>\n",
       "      <th>10</th>\n",
       "      <td>[1, 1, 1]</td>\n",
       "      <td>3</td>\n",
       "      <td>3</td>\n",
       "      <td>1</td>\n",
       "      <td>(2, 0, 1)</td>\n",
       "      <td>(2, 1, 0)</td>\n",
       "      <td>60.000000</td>\n",
       "      <td>Mixed</td>\n",
       "      <td>180</td>\n",
       "      <td>((-2, -1, 0), (-2, 0, -1))</td>\n",
       "      <td>False</td>\n",
       "      <td>Sig_3_S(201)_RA(111)_Mixed</td>\n",
       "      <td>(Atom('Fe', [0.0, 0.0, 0.0], index=0), Atom('F...</td>\n",
       "      <td>534</td>\n",
       "      <td>8.566211</td>\n",
       "      <td>19.154630</td>\n",
       "      <td>37.883601</td>\n",
       "    </tr>\n",
       "    <tr>\n",
       "      <th>21</th>\n",
       "      <td>[1, 1, 1]</td>\n",
       "      <td>3</td>\n",
       "      <td>3</td>\n",
       "      <td>1</td>\n",
       "      <td>(0, 3, 0)</td>\n",
       "      <td>(-1, 2, 2)</td>\n",
       "      <td>60.000000</td>\n",
       "      <td>Mixed</td>\n",
       "      <td>72</td>\n",
       "      <td>((-3, 0, 0), (-2, -2, -1))</td>\n",
       "      <td>False</td>\n",
       "      <td>Sig_3_S(030)_RA(111)_Mixed</td>\n",
       "      <td>(Atom('Fe', [0.0, 0.0, 0.0], index=0), Atom('F...</td>\n",
       "      <td>284</td>\n",
       "      <td>8.076301</td>\n",
       "      <td>12.114451</td>\n",
       "      <td>33.788943</td>\n",
       "    </tr>\n",
       "    <tr>\n",
       "      <th>26</th>\n",
       "      <td>[1, 1, 1]</td>\n",
       "      <td>3</td>\n",
       "      <td>3</td>\n",
       "      <td>1</td>\n",
       "      <td>(-2, 3, -1)</td>\n",
       "      <td>(-3, 1, 2)</td>\n",
       "      <td>60.000000</td>\n",
       "      <td>Tilt</td>\n",
       "      <td>84</td>\n",
       "      <td>((-3, -2, -1), (-2, 1, -3))</td>\n",
       "      <td>False</td>\n",
       "      <td>Sig_3_S(-23-1)_RA(111)_Tilt</td>\n",
       "      <td>(Atom('Fe', [0.0, 0.0, 0.0], index=0), Atom('F...</td>\n",
       "      <td>672</td>\n",
       "      <td>9.891408</td>\n",
       "      <td>18.505130</td>\n",
       "      <td>42.735768</td>\n",
       "    </tr>\n",
       "    <tr>\n",
       "      <th>27</th>\n",
       "      <td>[1, 1, 1]</td>\n",
       "      <td>3</td>\n",
       "      <td>3</td>\n",
       "      <td>1</td>\n",
       "      <td>(3, 1, 2)</td>\n",
       "      <td>(3, 2, 1)</td>\n",
       "      <td>60.000000</td>\n",
       "      <td>Mixed</td>\n",
       "      <td>168</td>\n",
       "      <td>((-3, -2, -1), (-3, -1, -2))</td>\n",
       "      <td>False</td>\n",
       "      <td>Sig_3_S(312)_RA(111)_Mixed</td>\n",
       "      <td>(Atom('Fe', [0.0, 0.0, 0.0], index=0), Atom('F...</td>\n",
       "      <td>664</td>\n",
       "      <td>13.988564</td>\n",
       "      <td>13.085103</td>\n",
       "      <td>42.227009</td>\n",
       "    </tr>\n",
       "    <tr>\n",
       "      <th>28</th>\n",
       "      <td>[1, 1, 1]</td>\n",
       "      <td>3</td>\n",
       "      <td>3</td>\n",
       "      <td>1</td>\n",
       "      <td>(1, -1, 3)</td>\n",
       "      <td>(3, -1, 1)</td>\n",
       "      <td>60.000000</td>\n",
       "      <td>Mixed</td>\n",
       "      <td>132</td>\n",
       "      <td>((-3, -1, -1), (-1, -3, -1))</td>\n",
       "      <td>False</td>\n",
       "      <td>Sig_3_S(1-13)_RA(111)_Mixed</td>\n",
       "      <td>(Atom('Fe', [0.0, 0.0, 0.0], index=0), Atom('F...</td>\n",
       "      <td>1048</td>\n",
       "      <td>13.988564</td>\n",
       "      <td>23.197409</td>\n",
       "      <td>37.594231</td>\n",
       "    </tr>\n",
       "    <tr>\n",
       "      <th>29</th>\n",
       "      <td>[1, 1, 1]</td>\n",
       "      <td>3</td>\n",
       "      <td>3</td>\n",
       "      <td>1</td>\n",
       "      <td>(-2, -1, -3)</td>\n",
       "      <td>(-3, -1, -2)</td>\n",
       "      <td>60.000000</td>\n",
       "      <td>Mixed</td>\n",
       "      <td>168</td>\n",
       "      <td>((-3, -2, -1), (-2, -3, -1))</td>\n",
       "      <td>False</td>\n",
       "      <td>Sig_3_S(-2-1-3)_RA(111)_Mixed</td>\n",
       "      <td>(Atom('Fe', [0.0, 0.0, 0.0], index=0), Atom('F...</td>\n",
       "      <td>664</td>\n",
       "      <td>13.988564</td>\n",
       "      <td>13.085103</td>\n",
       "      <td>42.227009</td>\n",
       "    </tr>\n",
       "    <tr>\n",
       "      <th>37</th>\n",
       "      <td>[1, 1, 1]</td>\n",
       "      <td>3</td>\n",
       "      <td>3</td>\n",
       "      <td>1</td>\n",
       "      <td>(3, -1, 1)</td>\n",
       "      <td>(3, 1, -1)</td>\n",
       "      <td>60.000000</td>\n",
       "      <td>Mixed</td>\n",
       "      <td>132</td>\n",
       "      <td>((-3, -1, -1), (-3, 1, 1))</td>\n",
       "      <td>False</td>\n",
       "      <td>Sig_3_S(3-11)_RA(111)_Mixed</td>\n",
       "      <td>(Atom('Fe', [0.0, 0.0, 0.0], index=0), Atom('F...</td>\n",
       "      <td>1048</td>\n",
       "      <td>13.988564</td>\n",
       "      <td>23.197409</td>\n",
       "      <td>37.594231</td>\n",
       "    </tr>\n",
       "    <tr>\n",
       "      <th>52</th>\n",
       "      <td>[1, 1, 1]</td>\n",
       "      <td>3</td>\n",
       "      <td>3</td>\n",
       "      <td>1</td>\n",
       "      <td>(-3, 0, -3)</td>\n",
       "      <td>(-4, -1, -1)</td>\n",
       "      <td>60.000000</td>\n",
       "      <td>Mixed</td>\n",
       "      <td>72</td>\n",
       "      <td>((-4, -1, -1), (-3, -3, 0))</td>\n",
       "      <td>False</td>\n",
       "      <td>Sig_3_S(-30-3)_RA(111)_Mixed</td>\n",
       "      <td>(Atom('Fe', [0.0, 0.0, 0.0], index=0), Atom('F...</td>\n",
       "      <td>284</td>\n",
       "      <td>8.076301</td>\n",
       "      <td>8.566211</td>\n",
       "      <td>47.784781</td>\n",
       "    </tr>\n",
       "    <tr>\n",
       "      <th>67</th>\n",
       "      <td>[1, 1, 1]</td>\n",
       "      <td>3</td>\n",
       "      <td>3</td>\n",
       "      <td>1</td>\n",
       "      <td>(1, -5, 1)</td>\n",
       "      <td>(3, -3, -3)</td>\n",
       "      <td>60.000000</td>\n",
       "      <td>Mixed</td>\n",
       "      <td>108</td>\n",
       "      <td>((-5, -1, -1), (-3, -3, 3))</td>\n",
       "      <td>False</td>\n",
       "      <td>Sig_3_S(1-51)_RA(111)_Mixed</td>\n",
       "      <td>(Atom('Fe', [0.0, 0.0, 0.0], index=0), Atom('F...</td>\n",
       "      <td>644</td>\n",
       "      <td>8.076301</td>\n",
       "      <td>20.982845</td>\n",
       "      <td>44.236576</td>\n",
       "    </tr>\n",
       "    <tr>\n",
       "      <th>82</th>\n",
       "      <td>[1, 1, 1]</td>\n",
       "      <td>3</td>\n",
       "      <td>3</td>\n",
       "      <td>1</td>\n",
       "      <td>(-1, 4, -3)</td>\n",
       "      <td>(-4, 3, 1)</td>\n",
       "      <td>60.000000</td>\n",
       "      <td>Tilt</td>\n",
       "      <td>156</td>\n",
       "      <td>((-4, -3, -1), (-3, 1, -4))</td>\n",
       "      <td>False</td>\n",
       "      <td>Sig_3_S(-14-3)_RA(111)_Tilt</td>\n",
       "      <td>(Atom('Fe', [0.0, 0.0, 0.0], index=0), Atom('F...</td>\n",
       "      <td>1248</td>\n",
       "      <td>9.891408</td>\n",
       "      <td>25.218242</td>\n",
       "      <td>58.239035</td>\n",
       "    </tr>\n",
       "    <tr>\n",
       "      <th>91</th>\n",
       "      <td>[1, 1, 1]</td>\n",
       "      <td>3</td>\n",
       "      <td>3</td>\n",
       "      <td>1</td>\n",
       "      <td>(-2, -5, 1)</td>\n",
       "      <td>(1, -5, -2)</td>\n",
       "      <td>60.000000</td>\n",
       "      <td>Mixed</td>\n",
       "      <td>120</td>\n",
       "      <td>((-5, -2, -1), (-5, 1, 2))</td>\n",
       "      <td>False</td>\n",
       "      <td>Sig_3_S(-2-51)_RA(111)_Mixed</td>\n",
       "      <td>(Atom('Fe', [0.0, 0.0, 0.0], index=0), Atom('F...</td>\n",
       "      <td>480</td>\n",
       "      <td>12.769753</td>\n",
       "      <td>13.988564</td>\n",
       "      <td>31.279379</td>\n",
       "    </tr>\n",
       "    <tr>\n",
       "      <th>92</th>\n",
       "      <td>[1, 1, 1]</td>\n",
       "      <td>3</td>\n",
       "      <td>3</td>\n",
       "      <td>1</td>\n",
       "      <td>(2, -1, 5)</td>\n",
       "      <td>(5, -1, 2)</td>\n",
       "      <td>60.000000</td>\n",
       "      <td>Mixed</td>\n",
       "      <td>120</td>\n",
       "      <td>((-5, -2, -1), (-2, -5, -1))</td>\n",
       "      <td>False</td>\n",
       "      <td>Sig_3_S(2-15)_RA(111)_Mixed</td>\n",
       "      <td>(Atom('Fe', [0.0, 0.0, 0.0], index=0), Atom('F...</td>\n",
       "      <td>480</td>\n",
       "      <td>12.769753</td>\n",
       "      <td>13.988564</td>\n",
       "      <td>31.279379</td>\n",
       "    </tr>\n",
       "    <tr>\n",
       "      <th>108</th>\n",
       "      <td>[1, 1, 1]</td>\n",
       "      <td>7</td>\n",
       "      <td>5</td>\n",
       "      <td>1</td>\n",
       "      <td>(3, -1, -2)</td>\n",
       "      <td>(2, 1, -3)</td>\n",
       "      <td>38.213211</td>\n",
       "      <td>Symmetric Tilt</td>\n",
       "      <td>84</td>\n",
       "      <td>((-3, -2, -1), (-2, -3, 1))</td>\n",
       "      <td>False</td>\n",
       "      <td>Sig_7_S(3-1-2)_RA(111)_SymmetricTilt</td>\n",
       "      <td>(Atom('Fe', [0.0, 0.0, 0.0], index=0), Atom('F...</td>\n",
       "      <td>672</td>\n",
       "      <td>9.891408</td>\n",
       "      <td>18.505130</td>\n",
       "      <td>42.735768</td>\n",
       "    </tr>\n",
       "    <tr>\n",
       "      <th>109</th>\n",
       "      <td>[1, 1, 1]</td>\n",
       "      <td>7</td>\n",
       "      <td>5</td>\n",
       "      <td>1</td>\n",
       "      <td>(0, 1, 3)</td>\n",
       "      <td>(1, 0, 3)</td>\n",
       "      <td>38.213211</td>\n",
       "      <td>Mixed</td>\n",
       "      <td>140</td>\n",
       "      <td>((-3, -1, 0), (-3, 0, -1))</td>\n",
       "      <td>False</td>\n",
       "      <td>Sig_7_S(013)_RA(111)_Mixed</td>\n",
       "      <td>(Atom('Fe', [0.0, 0.0, 0.0], index=0), Atom('F...</td>\n",
       "      <td>276</td>\n",
       "      <td>10.683942</td>\n",
       "      <td>8.446398</td>\n",
       "      <td>35.602340</td>\n",
       "    </tr>\n",
       "    <tr>\n",
       "      <th>110</th>\n",
       "      <td>[1, 1, 1]</td>\n",
       "      <td>7</td>\n",
       "      <td>5</td>\n",
       "      <td>1</td>\n",
       "      <td>(-1, 1, -2)</td>\n",
       "      <td>(-2, 1, -1)</td>\n",
       "      <td>38.213211</td>\n",
       "      <td>Mixed</td>\n",
       "      <td>168</td>\n",
       "      <td>((-2, -1, -1), (-1, -2, -1))</td>\n",
       "      <td>False</td>\n",
       "      <td>Sig_7_S(-11-2)_RA(111)_Mixed</td>\n",
       "      <td>(Atom('Fe', [0.0, 0.0, 0.0], index=0), Atom('F...</td>\n",
       "      <td>500</td>\n",
       "      <td>10.683942</td>\n",
       "      <td>13.085103</td>\n",
       "      <td>41.632630</td>\n",
       "    </tr>\n",
       "    <tr>\n",
       "      <th>126</th>\n",
       "      <td>[1, 1, 1]</td>\n",
       "      <td>7</td>\n",
       "      <td>5</td>\n",
       "      <td>1</td>\n",
       "      <td>(-3, 1, -5)</td>\n",
       "      <td>(-5, 1, -3)</td>\n",
       "      <td>38.213211</td>\n",
       "      <td>Mixed</td>\n",
       "      <td>140</td>\n",
       "      <td>((-5, -3, -1), (-3, -5, -1))</td>\n",
       "      <td>False</td>\n",
       "      <td>Sig_7_S(-31-5)_RA(111)_Mixed</td>\n",
       "      <td>(Atom('Fe', [0.0, 0.0, 0.0], index=0), Atom('F...</td>\n",
       "      <td>280</td>\n",
       "      <td>10.683942</td>\n",
       "      <td>9.029579</td>\n",
       "      <td>33.785591</td>\n",
       "    </tr>\n",
       "    <tr>\n",
       "      <th>128</th>\n",
       "      <td>[1, 1, 1]</td>\n",
       "      <td>7</td>\n",
       "      <td>5</td>\n",
       "      <td>1</td>\n",
       "      <td>(-5, 4, 1)</td>\n",
       "      <td>(-5, 1, 4)</td>\n",
       "      <td>38.213211</td>\n",
       "      <td>Tilt</td>\n",
       "      <td>84</td>\n",
       "      <td>((-5, -4, -1), (-5, -1, -4))</td>\n",
       "      <td>False</td>\n",
       "      <td>Sig_7_S(-541)_RA(111)_Tilt</td>\n",
       "      <td>(Atom('Fe', [0.0, 0.0, 0.0], index=0), Atom('F...</td>\n",
       "      <td>328</td>\n",
       "      <td>9.891408</td>\n",
       "      <td>10.683942</td>\n",
       "      <td>36.129064</td>\n",
       "    </tr>\n",
       "    <tr>\n",
       "      <th>136</th>\n",
       "      <td>[1, 1, 1]</td>\n",
       "      <td>13</td>\n",
       "      <td>7</td>\n",
       "      <td>1</td>\n",
       "      <td>(-1, -3, 4)</td>\n",
       "      <td>(1, -4, 3)</td>\n",
       "      <td>27.795772</td>\n",
       "      <td>Symmetric Tilt</td>\n",
       "      <td>156</td>\n",
       "      <td>((-4, -3, -1), (-3, -4, 1))</td>\n",
       "      <td>False</td>\n",
       "      <td>Sig_13_S(-1-34)_RA(111)_SymmetricTilt</td>\n",
       "      <td>(Atom('Fe', [0.0, 0.0, 0.0], index=0), Atom('F...</td>\n",
       "      <td>1224</td>\n",
       "      <td>9.891408</td>\n",
       "      <td>25.218242</td>\n",
       "      <td>57.119053</td>\n",
       "    </tr>\n",
       "    <tr>\n",
       "      <th>142</th>\n",
       "      <td>[1, 1, 1]</td>\n",
       "      <td>13</td>\n",
       "      <td>7</td>\n",
       "      <td>1</td>\n",
       "      <td>(2, -7, 5)</td>\n",
       "      <td>(5, -7, 2)</td>\n",
       "      <td>27.795772</td>\n",
       "      <td>Tilt</td>\n",
       "      <td>156</td>\n",
       "      <td>((-7, -5, -2), (-7, -2, -5))</td>\n",
       "      <td>False</td>\n",
       "      <td>Sig_13_S(2-75)_RA(111)_Tilt</td>\n",
       "      <td>(Atom('Fe', [0.0, 0.0, 0.0], index=0), Atom('F...</td>\n",
       "      <td>616</td>\n",
       "      <td>9.891408</td>\n",
       "      <td>14.559759</td>\n",
       "      <td>49.789862</td>\n",
       "    </tr>\n",
       "    <tr>\n",
       "      <th>155</th>\n",
       "      <td>[1, 1, 1]</td>\n",
       "      <td>21</td>\n",
       "      <td>9</td>\n",
       "      <td>1</td>\n",
       "      <td>(-4, 5, -1)</td>\n",
       "      <td>(-5, 4, 1)</td>\n",
       "      <td>21.786789</td>\n",
       "      <td>Symmetric Tilt</td>\n",
       "      <td>84</td>\n",
       "      <td>((-5, -4, -1), (-4, -5, 1))</td>\n",
       "      <td>False</td>\n",
       "      <td>Sig_21_S(-45-1)_RA(111)_SymmetricTilt</td>\n",
       "      <td>(Atom('Fe', [0.0, 0.0, 0.0], index=0), Atom('F...</td>\n",
       "      <td>328</td>\n",
       "      <td>9.891408</td>\n",
       "      <td>10.683942</td>\n",
       "      <td>36.129064</td>\n",
       "    </tr>\n",
       "    <tr>\n",
       "      <th>162</th>\n",
       "      <td>[1, 1, 1]</td>\n",
       "      <td>39</td>\n",
       "      <td>6</td>\n",
       "      <td>1</td>\n",
       "      <td>(-1, 4, -3)</td>\n",
       "      <td>(-3, 4, -1)</td>\n",
       "      <td>32.204228</td>\n",
       "      <td>Tilt</td>\n",
       "      <td>156</td>\n",
       "      <td>((-4, -3, -1), (-4, -1, -3))</td>\n",
       "      <td>False</td>\n",
       "      <td>Sig_39_S(-14-3)_RA(111)_Tilt</td>\n",
       "      <td>(Atom('Fe', [0.0, 0.0, 0.0], index=0), Atom('F...</td>\n",
       "      <td>1240</td>\n",
       "      <td>9.891408</td>\n",
       "      <td>25.218242</td>\n",
       "      <td>57.865707</td>\n",
       "    </tr>\n",
       "    <tr>\n",
       "      <th>168</th>\n",
       "      <td>[1, 1, 1]</td>\n",
       "      <td>39</td>\n",
       "      <td>6</td>\n",
       "      <td>1</td>\n",
       "      <td>(-2, -5, 7)</td>\n",
       "      <td>(2, -7, 5)</td>\n",
       "      <td>32.204228</td>\n",
       "      <td>Symmetric Tilt</td>\n",
       "      <td>156</td>\n",
       "      <td>((-7, -5, -2), (-5, -7, 2))</td>\n",
       "      <td>False</td>\n",
       "      <td>Sig_39_S(-2-57)_RA(111)_SymmetricTilt</td>\n",
       "      <td>(Atom('Fe', [0.0, 0.0, 0.0], index=0), Atom('F...</td>\n",
       "      <td>608</td>\n",
       "      <td>9.891408</td>\n",
       "      <td>14.559759</td>\n",
       "      <td>49.143240</td>\n",
       "    </tr>\n",
       "  </tbody>\n",
       "</table>\n",
       "</div>"
      ],
      "text/plain": [
       "          Axis  Sigma  m  n           GB1           GB2  Theta (deg)  \\\n",
       "0    [1, 1, 1]      3  3  1    (-1, 1, 0)    (-1, 0, 1)    60.000000   \n",
       "2    [1, 1, 1]      3  3  1     (1, 1, 1)     (1, 1, 1)    60.000000   \n",
       "7    [1, 1, 1]      3  3  1     (1, 0, 2)     (2, 0, 1)    60.000000   \n",
       "8    [1, 1, 1]      3  3  1   (-1, 2, -1)    (-2, 1, 1)    60.000000   \n",
       "10   [1, 1, 1]      3  3  1     (2, 0, 1)     (2, 1, 0)    60.000000   \n",
       "21   [1, 1, 1]      3  3  1     (0, 3, 0)    (-1, 2, 2)    60.000000   \n",
       "26   [1, 1, 1]      3  3  1   (-2, 3, -1)    (-3, 1, 2)    60.000000   \n",
       "27   [1, 1, 1]      3  3  1     (3, 1, 2)     (3, 2, 1)    60.000000   \n",
       "28   [1, 1, 1]      3  3  1    (1, -1, 3)    (3, -1, 1)    60.000000   \n",
       "29   [1, 1, 1]      3  3  1  (-2, -1, -3)  (-3, -1, -2)    60.000000   \n",
       "37   [1, 1, 1]      3  3  1    (3, -1, 1)    (3, 1, -1)    60.000000   \n",
       "52   [1, 1, 1]      3  3  1   (-3, 0, -3)  (-4, -1, -1)    60.000000   \n",
       "67   [1, 1, 1]      3  3  1    (1, -5, 1)   (3, -3, -3)    60.000000   \n",
       "82   [1, 1, 1]      3  3  1   (-1, 4, -3)    (-4, 3, 1)    60.000000   \n",
       "91   [1, 1, 1]      3  3  1   (-2, -5, 1)   (1, -5, -2)    60.000000   \n",
       "92   [1, 1, 1]      3  3  1    (2, -1, 5)    (5, -1, 2)    60.000000   \n",
       "108  [1, 1, 1]      7  5  1   (3, -1, -2)    (2, 1, -3)    38.213211   \n",
       "109  [1, 1, 1]      7  5  1     (0, 1, 3)     (1, 0, 3)    38.213211   \n",
       "110  [1, 1, 1]      7  5  1   (-1, 1, -2)   (-2, 1, -1)    38.213211   \n",
       "126  [1, 1, 1]      7  5  1   (-3, 1, -5)   (-5, 1, -3)    38.213211   \n",
       "128  [1, 1, 1]      7  5  1    (-5, 4, 1)    (-5, 1, 4)    38.213211   \n",
       "136  [1, 1, 1]     13  7  1   (-1, -3, 4)    (1, -4, 3)    27.795772   \n",
       "142  [1, 1, 1]     13  7  1    (2, -7, 5)    (5, -7, 2)    27.795772   \n",
       "155  [1, 1, 1]     21  9  1   (-4, 5, -1)    (-5, 4, 1)    21.786789   \n",
       "162  [1, 1, 1]     39  6  1   (-1, 4, -3)   (-3, 4, -1)    32.204228   \n",
       "168  [1, 1, 1]     39  6  1   (-2, -5, 7)    (2, -7, 5)    32.204228   \n",
       "\n",
       "               Type  n_atoms                         canon   dupe  \\\n",
       "0              Tilt       12    ((-1, -1, 0), (-1, 0, -1))  False   \n",
       "2             Twist       12  ((-1, -1, -1), (-1, -1, -1))  False   \n",
       "7             Mixed      180    ((-2, -1, 0), (-1, -2, 0))  False   \n",
       "8    Symmetric Tilt       12   ((-2, -1, -1), (-1, -2, 1))  False   \n",
       "10            Mixed      180    ((-2, -1, 0), (-2, 0, -1))  False   \n",
       "21            Mixed       72    ((-3, 0, 0), (-2, -2, -1))  False   \n",
       "26             Tilt       84   ((-3, -2, -1), (-2, 1, -3))  False   \n",
       "27            Mixed      168  ((-3, -2, -1), (-3, -1, -2))  False   \n",
       "28            Mixed      132  ((-3, -1, -1), (-1, -3, -1))  False   \n",
       "29            Mixed      168  ((-3, -2, -1), (-2, -3, -1))  False   \n",
       "37            Mixed      132    ((-3, -1, -1), (-3, 1, 1))  False   \n",
       "52            Mixed       72   ((-4, -1, -1), (-3, -3, 0))  False   \n",
       "67            Mixed      108   ((-5, -1, -1), (-3, -3, 3))  False   \n",
       "82             Tilt      156   ((-4, -3, -1), (-3, 1, -4))  False   \n",
       "91            Mixed      120    ((-5, -2, -1), (-5, 1, 2))  False   \n",
       "92            Mixed      120  ((-5, -2, -1), (-2, -5, -1))  False   \n",
       "108  Symmetric Tilt       84   ((-3, -2, -1), (-2, -3, 1))  False   \n",
       "109           Mixed      140    ((-3, -1, 0), (-3, 0, -1))  False   \n",
       "110           Mixed      168  ((-2, -1, -1), (-1, -2, -1))  False   \n",
       "126           Mixed      140  ((-5, -3, -1), (-3, -5, -1))  False   \n",
       "128            Tilt       84  ((-5, -4, -1), (-5, -1, -4))  False   \n",
       "136  Symmetric Tilt      156   ((-4, -3, -1), (-3, -4, 1))  False   \n",
       "142            Tilt      156  ((-7, -5, -2), (-7, -2, -5))  False   \n",
       "155  Symmetric Tilt       84   ((-5, -4, -1), (-4, -5, 1))  False   \n",
       "162            Tilt      156  ((-4, -3, -1), (-4, -1, -3))  False   \n",
       "168  Symmetric Tilt      156   ((-7, -5, -2), (-5, -7, 2))  False   \n",
       "\n",
       "                                 GB_string  \\\n",
       "0               Sig_3_S(-110)_RA(111)_Tilt   \n",
       "2               Sig_3_S(111)_RA(111)_Twist   \n",
       "7               Sig_3_S(102)_RA(111)_Mixed   \n",
       "8     Sig_3_S(-12-1)_RA(111)_SymmetricTilt   \n",
       "10              Sig_3_S(201)_RA(111)_Mixed   \n",
       "21              Sig_3_S(030)_RA(111)_Mixed   \n",
       "26             Sig_3_S(-23-1)_RA(111)_Tilt   \n",
       "27              Sig_3_S(312)_RA(111)_Mixed   \n",
       "28             Sig_3_S(1-13)_RA(111)_Mixed   \n",
       "29           Sig_3_S(-2-1-3)_RA(111)_Mixed   \n",
       "37             Sig_3_S(3-11)_RA(111)_Mixed   \n",
       "52            Sig_3_S(-30-3)_RA(111)_Mixed   \n",
       "67             Sig_3_S(1-51)_RA(111)_Mixed   \n",
       "82             Sig_3_S(-14-3)_RA(111)_Tilt   \n",
       "91            Sig_3_S(-2-51)_RA(111)_Mixed   \n",
       "92             Sig_3_S(2-15)_RA(111)_Mixed   \n",
       "108   Sig_7_S(3-1-2)_RA(111)_SymmetricTilt   \n",
       "109             Sig_7_S(013)_RA(111)_Mixed   \n",
       "110           Sig_7_S(-11-2)_RA(111)_Mixed   \n",
       "126           Sig_7_S(-31-5)_RA(111)_Mixed   \n",
       "128             Sig_7_S(-541)_RA(111)_Tilt   \n",
       "136  Sig_13_S(-1-34)_RA(111)_SymmetricTilt   \n",
       "142            Sig_13_S(2-75)_RA(111)_Tilt   \n",
       "155  Sig_21_S(-45-1)_RA(111)_SymmetricTilt   \n",
       "162           Sig_39_S(-14-3)_RA(111)_Tilt   \n",
       "168  Sig_39_S(-2-57)_RA(111)_SymmetricTilt   \n",
       "\n",
       "                                             structure  structure_natoms  \\\n",
       "0    (Atom('Fe', [0.0, 0.0, 0.0], index=0), Atom('F...               384   \n",
       "2    (Atom('Fe', [0.0, 0.0, 0.0], index=0), Atom('F...               336   \n",
       "7    (Atom('Fe', [0.0, 0.0, 0.0], index=0), Atom('F...               534   \n",
       "8    (Atom('Fe', [0.0, 0.0, 0.0], index=0), Atom('F...               288   \n",
       "10   (Atom('Fe', [0.0, 0.0, 0.0], index=0), Atom('F...               534   \n",
       "21   (Atom('Fe', [0.0, 0.0, 0.0], index=0), Atom('F...               284   \n",
       "26   (Atom('Fe', [0.0, 0.0, 0.0], index=0), Atom('F...               672   \n",
       "27   (Atom('Fe', [0.0, 0.0, 0.0], index=0), Atom('F...               664   \n",
       "28   (Atom('Fe', [0.0, 0.0, 0.0], index=0), Atom('F...              1048   \n",
       "29   (Atom('Fe', [0.0, 0.0, 0.0], index=0), Atom('F...               664   \n",
       "37   (Atom('Fe', [0.0, 0.0, 0.0], index=0), Atom('F...              1048   \n",
       "52   (Atom('Fe', [0.0, 0.0, 0.0], index=0), Atom('F...               284   \n",
       "67   (Atom('Fe', [0.0, 0.0, 0.0], index=0), Atom('F...               644   \n",
       "82   (Atom('Fe', [0.0, 0.0, 0.0], index=0), Atom('F...              1248   \n",
       "91   (Atom('Fe', [0.0, 0.0, 0.0], index=0), Atom('F...               480   \n",
       "92   (Atom('Fe', [0.0, 0.0, 0.0], index=0), Atom('F...               480   \n",
       "108  (Atom('Fe', [0.0, 0.0, 0.0], index=0), Atom('F...               672   \n",
       "109  (Atom('Fe', [0.0, 0.0, 0.0], index=0), Atom('F...               276   \n",
       "110  (Atom('Fe', [0.0, 0.0, 0.0], index=0), Atom('F...               500   \n",
       "126  (Atom('Fe', [0.0, 0.0, 0.0], index=0), Atom('F...               280   \n",
       "128  (Atom('Fe', [0.0, 0.0, 0.0], index=0), Atom('F...               328   \n",
       "136  (Atom('Fe', [0.0, 0.0, 0.0], index=0), Atom('F...              1224   \n",
       "142  (Atom('Fe', [0.0, 0.0, 0.0], index=0), Atom('F...               616   \n",
       "155  (Atom('Fe', [0.0, 0.0, 0.0], index=0), Atom('F...               328   \n",
       "162  (Atom('Fe', [0.0, 0.0, 0.0], index=0), Atom('F...              1240   \n",
       "168  (Atom('Fe', [0.0, 0.0, 0.0], index=0), Atom('F...               608   \n",
       "\n",
       "             a          b          c  \n",
       "0     9.891408  13.988564  32.305204  \n",
       "2     8.076301  13.988564  34.619929  \n",
       "7     8.566211  19.154630  37.883601  \n",
       "8     9.891408   8.076301  41.965691  \n",
       "10    8.566211  19.154630  37.883601  \n",
       "21    8.076301  12.114451  33.788943  \n",
       "26    9.891408  18.505130  42.735768  \n",
       "27   13.988564  13.085103  42.227009  \n",
       "28   13.988564  23.197409  37.594231  \n",
       "29   13.988564  13.085103  42.227009  \n",
       "37   13.988564  23.197409  37.594231  \n",
       "52    8.076301   8.566211  47.784781  \n",
       "67    8.076301  20.982845  44.236576  \n",
       "82    9.891408  25.218242  58.239035  \n",
       "91   12.769753  13.988564  31.279379  \n",
       "92   12.769753  13.988564  31.279379  \n",
       "108   9.891408  18.505130  42.735768  \n",
       "109  10.683942   8.446398  35.602340  \n",
       "110  10.683942  13.085103  41.632630  \n",
       "126  10.683942   9.029579  33.785591  \n",
       "128   9.891408  10.683942  36.129064  \n",
       "136   9.891408  25.218242  57.119053  \n",
       "142   9.891408  14.559759  49.789862  \n",
       "155   9.891408  10.683942  36.129064  \n",
       "162   9.891408  25.218242  57.865707  \n",
       "168   9.891408  14.559759  49.143240  "
      ]
     },
     "execution_count": 3,
     "metadata": {},
     "output_type": "execute_result"
    }
   ],
   "source": [
    "from pyiron_workflow_atomistics.gb.gb_code.searcher import get_gbcode_df_multiple_axes\n",
    "gbcode_df = get_gbcode_df_multiple_axes(axes_list=[np.array([1, 1, 1])],#, np.array([1, 1, 0]), np.array([1, 0, 0])],\n",
    "                   basis=\"bcc\",\n",
    "                   sigma_limit=100,\n",
    "                   lim_plane_index=3,\n",
    "                   max_atoms=200,\n",
    "                   max_workers=None)\n",
    "from pyiron_workflow_atomistics.gb.gb_code.searcher import _deduplicate_gbcode_df_miller_indices_equivalent\n",
    "\n",
    "gbcode_df_unique = _deduplicate_gbcode_df_miller_indices_equivalent(gbcode_df)\n",
    "def make_gb_string(row):\n",
    "    # strip parentheses/brackets, remove commas and spaces\n",
    "    plane = str(row['GB1']).strip('()[]').replace(',', '').replace(' ', '')\n",
    "    axis  = str(row['Axis']).strip('()[]').replace(',', '').replace(' ', '')\n",
    "    return f\"Sig_{row['Sigma']}_S({plane})_RA({axis})_{str(row['Type']).replace(' ', '')}\"\n",
    "\n",
    "gbcode_df_unique['GB_string'] = gbcode_df_unique.apply(make_gb_string, axis=1)\n",
    "from pyiron_workflow_atomistics.gb.gb_code.searcher import get_gbcode_df_with_structures\n",
    "gbcode_df_unique_structures = get_gbcode_df_with_structures(df=gbcode_df_unique,\n",
    "                                                            basis=\"bcc\",\n",
    "                                                            lattice_param=wf1.opt_cubic_cell.outputs.a0.value,\n",
    "                                                            equil_volume_per_atom=wf1.opt_cubic_cell.outputs.equil_volume_per_atom.value,\n",
    "                                                            req_length_grain=15,\n",
    "                                                            min_inplane_gb_length=8,\n",
    "                                                            grain_length_axis=0,\n",
    "                                                            element=\"Fe\",\n",
    "                                                            max_workers=None)\n",
    "\n",
    "def lattice_lengths(atoms):\n",
    "    # get the 3×3 cell matrix\n",
    "    cell = atoms.get_cell()        # or atoms.cell\n",
    "    # length of each lattice vector\n",
    "    return np.linalg.norm(cell[0]), np.linalg.norm(cell[1]), np.linalg.norm(cell[2])\n",
    "\n",
    "# apply to the structure column and expand into a,b,c\n",
    "gbcode_df_unique_structures[['a','b','c']] = gbcode_df_unique_structures['structure'] \\\n",
    "    .apply(lambda at: pd.Series(lattice_lengths(at), index=['a','b','c']))\n",
    "\n",
    "# now df has columns a, b, c alongside everything else\n",
    "gbcode_df_unique_structures"
   ]
  },
  {
   "cell_type": "code",
   "execution_count": 4,
   "id": "9f2986fb",
   "metadata": {},
   "outputs": [
    {
     "name": "stderr",
     "output_type": "stream",
     "text": [
      "2025-08-10 02:19:43,631 - pyiron_log - WARNING - Directory 'pure_gb_study/gb_length_optimiser/ext_0.800' already exists. Existing files may be overwritten.\n"
     ]
    },
    {
     "name": "stdout",
     "output_type": "stream",
     "text": [
      "pure_gb_study\n",
      "pure_gb_study\n",
      "pure_gb_study/gb_length_optimiser\n",
      "pure_gb_study/gb_length_optimiser\n",
      "pure_gb_study/gb_length_optimiser/ext_0.800\n"
     ]
    },
    {
     "name": "stderr",
     "output_type": "stream",
     "text": [
      "/root/miniconda3/envs/pyiron_workflow_atomistics/lib/python3.13/site-packages/pyiron_lammps/units.py:236: UserWarning: Warning: Couldn't determine the LAMMPS to pyiron unit conversion type of quantity eng. Returning un-normalized quantity\n",
      "  warnings.warn(\n",
      "2025-08-10 02:19:44,309 - pyiron_log - WARNING - Directory 'pure_gb_study/gb_length_optimiser/ext_0.300' already exists. Existing files may be overwritten.\n"
     ]
    },
    {
     "name": "stdout",
     "output_type": "stream",
     "text": [
      "pure_gb_study/gb_length_optimiser/ext_0.300\n"
     ]
    },
    {
     "name": "stderr",
     "output_type": "stream",
     "text": [
      "/root/miniconda3/envs/pyiron_workflow_atomistics/lib/python3.13/site-packages/pyiron_lammps/units.py:236: UserWarning: Warning: Couldn't determine the LAMMPS to pyiron unit conversion type of quantity eng. Returning un-normalized quantity\n",
      "  warnings.warn(\n",
      "2025-08-10 02:19:44,975 - pyiron_log - WARNING - Directory 'pure_gb_study/gb_length_optimiser/ext_-0.200' already exists. Existing files may be overwritten.\n"
     ]
    },
    {
     "name": "stdout",
     "output_type": "stream",
     "text": [
      "pure_gb_study/gb_length_optimiser/ext_-0.200\n"
     ]
    },
    {
     "name": "stderr",
     "output_type": "stream",
     "text": [
      "/root/miniconda3/envs/pyiron_workflow_atomistics/lib/python3.13/site-packages/pyiron_lammps/units.py:236: UserWarning: Warning: Couldn't determine the LAMMPS to pyiron unit conversion type of quantity eng. Returning un-normalized quantity\n",
      "  warnings.warn(\n",
      "2025-08-10 02:19:46,048 - pyiron_log - WARNING - Directory 'pure_gb_study/gb_length_optimiser/ext_0.050' already exists. Existing files may be overwritten.\n"
     ]
    },
    {
     "name": "stdout",
     "output_type": "stream",
     "text": [
      "pure_gb_study/gb_length_optimiser\n",
      "pure_gb_study/gb_length_optimiser/ext_0.050\n"
     ]
    },
    {
     "name": "stderr",
     "output_type": "stream",
     "text": [
      "/root/miniconda3/envs/pyiron_workflow_atomistics/lib/python3.13/site-packages/pyiron_lammps/units.py:236: UserWarning: Warning: Couldn't determine the LAMMPS to pyiron unit conversion type of quantity eng. Returning un-normalized quantity\n",
      "  warnings.warn(\n",
      "2025-08-10 02:19:46,725 - pyiron_log - WARNING - Directory 'pure_gb_study/gb_length_optimiser/ext_0.025' already exists. Existing files may be overwritten.\n"
     ]
    },
    {
     "name": "stdout",
     "output_type": "stream",
     "text": [
      "pure_gb_study/gb_length_optimiser/ext_0.025\n"
     ]
    },
    {
     "name": "stderr",
     "output_type": "stream",
     "text": [
      "/root/miniconda3/envs/pyiron_workflow_atomistics/lib/python3.13/site-packages/pyiron_lammps/units.py:236: UserWarning: Warning: Couldn't determine the LAMMPS to pyiron unit conversion type of quantity eng. Returning un-normalized quantity\n",
      "  warnings.warn(\n",
      "2025-08-10 02:19:47,416 - pyiron_log - WARNING - Directory 'pure_gb_study/gb_length_optimiser/ext_0.000' already exists. Existing files may be overwritten.\n"
     ]
    },
    {
     "name": "stdout",
     "output_type": "stream",
     "text": [
      "pure_gb_study/gb_length_optimiser/ext_0.000\n"
     ]
    },
    {
     "name": "stderr",
     "output_type": "stream",
     "text": [
      "/root/miniconda3/envs/pyiron_workflow_atomistics/lib/python3.13/site-packages/pyiron_lammps/units.py:236: UserWarning: Warning: Couldn't determine the LAMMPS to pyiron unit conversion type of quantity eng. Returning un-normalized quantity\n",
      "  warnings.warn(\n",
      "2025-08-10 02:19:48,065 - pyiron_log - WARNING - Directory 'pure_gb_study/gb_length_optimiser/ext_-0.025' already exists. Existing files may be overwritten.\n"
     ]
    },
    {
     "name": "stdout",
     "output_type": "stream",
     "text": [
      "pure_gb_study/gb_length_optimiser/ext_-0.025\n"
     ]
    },
    {
     "name": "stderr",
     "output_type": "stream",
     "text": [
      "/root/miniconda3/envs/pyiron_workflow_atomistics/lib/python3.13/site-packages/pyiron_lammps/units.py:236: UserWarning: Warning: Couldn't determine the LAMMPS to pyiron unit conversion type of quantity eng. Returning un-normalized quantity\n",
      "  warnings.warn(\n",
      "2025-08-10 02:19:48,703 - pyiron_log - WARNING - Directory 'pure_gb_study/gb_length_optimiser/ext_-0.050' already exists. Existing files may be overwritten.\n"
     ]
    },
    {
     "name": "stdout",
     "output_type": "stream",
     "text": [
      "pure_gb_study/gb_length_optimiser/ext_-0.050\n"
     ]
    },
    {
     "name": "stderr",
     "output_type": "stream",
     "text": [
      "/root/miniconda3/envs/pyiron_workflow_atomistics/lib/python3.13/site-packages/pyiron_lammps/units.py:236: UserWarning: Warning: Couldn't determine the LAMMPS to pyiron unit conversion type of quantity eng. Returning un-normalized quantity\n",
      "  warnings.warn(\n",
      "2025-08-10 02:19:49,658 - pyiron_log - WARNING - Directory 'pure_gb_study/gb_with_vacuum_rel' already exists. Existing files may be overwritten.\n"
     ]
    },
    {
     "name": "stdout",
     "output_type": "stream",
     "text": [
      "pure_gb_study/gb_with_vacuum_rel\n"
     ]
    },
    {
     "name": "stderr",
     "output_type": "stream",
     "text": [
      "/root/miniconda3/envs/pyiron_workflow_atomistics/lib/python3.13/site-packages/pyiron_lammps/units.py:236: UserWarning: Warning: Couldn't determine the LAMMPS to pyiron unit conversion type of quantity eng. Returning un-normalized quantity\n",
      "  warnings.warn(\n"
     ]
    },
    {
     "data": {
      "image/png": "[encoded data removed]",
      "text/plain": [
       "<Figure size 600x400 with 1 Axes>"
      ]
     },
     "metadata": {},
     "output_type": "display_data"
    },
    {
     "data": {
      "image/png": "[encoded data removed]",
      "text/plain": [
       "<Figure size 600x400 with 1 Axes>"
      ]
     },
     "metadata": {},
     "output_type": "display_data"
    },
    {
     "data": {
      "image/png": "[encoded data removed]",
      "text/plain": [
       "<Figure size 600x400 with 1 Axes>"
      ]
     },
     "metadata": {},
     "output_type": "display_data"
    },
    {
     "data": {
      "image/png": "[encoded data removed]",
      "text/plain": [
       "<Figure size 1000x600 with 2 Axes>"
      ]
     },
     "metadata": {},
     "output_type": "display_data"
    },
    {
     "name": "stderr",
     "output_type": "stream",
     "text": [
      "2025-08-10 02:20:00,459 - pyiron_log - WARNING - Directory 'pure_gb_study/gb_seg_supercell' already exists. Existing files may be overwritten.\n"
     ]
    },
    {
     "name": "stdout",
     "output_type": "stream",
     "text": [
      "pure_gb_study/gb_seg_supercell\n"
     ]
    },
    {
     "name": "stderr",
     "output_type": "stream",
     "text": [
      "/root/miniconda3/envs/pyiron_workflow_atomistics/lib/python3.13/site-packages/pyiron_lammps/units.py:236: UserWarning: Warning: Couldn't determine the LAMMPS to pyiron unit conversion type of quantity eng. Returning un-normalized quantity\n",
      "  warnings.warn(\n",
      "2025-08-10 02:20:01,222 - pyiron_log - WARNING - Directory 'pure_gb_study/cleavage_study/cleavage_rigid/cleavage_rigid_cp_27.165' already exists. Existing files may be overwritten.\n"
     ]
    },
    {
     "name": "stdout",
     "output_type": "stream",
     "text": [
      "pure_gb_study/cleavage_study\n",
      "pure_gb_study/cleavage_study\n",
      "pure_gb_study/cleavage_study/cleavage_rigid\n",
      "pure_gb_study/cleavage_study/cleavage_rigid/cleavage_rigid_cp_27.165\n"
     ]
    },
    {
     "name": "stderr",
     "output_type": "stream",
     "text": [
      "/root/miniconda3/envs/pyiron_workflow_atomistics/lib/python3.13/site-packages/pyiron_lammps/units.py:236: UserWarning: Warning: Couldn't determine the LAMMPS to pyiron unit conversion type of quantity eng. Returning un-normalized quantity\n",
      "  warnings.warn(\n",
      "2025-08-10 02:20:01,816 - pyiron_log - WARNING - Directory 'pure_gb_study/cleavage_study/cleavage_rigid/cleavage_rigid_cp_25.107' already exists. Existing files may be overwritten.\n"
     ]
    },
    {
     "name": "stdout",
     "output_type": "stream",
     "text": [
      "pure_gb_study/cleavage_study/cleavage_rigid/cleavage_rigid_cp_25.107\n"
     ]
    },
    {
     "name": "stderr",
     "output_type": "stream",
     "text": [
      "/root/miniconda3/envs/pyiron_workflow_atomistics/lib/python3.13/site-packages/pyiron_lammps/units.py:236: UserWarning: Warning: Couldn't determine the LAMMPS to pyiron unit conversion type of quantity eng. Returning un-normalized quantity\n",
      "  warnings.warn(\n",
      "2025-08-10 02:20:02,457 - pyiron_log - WARNING - Directory 'pure_gb_study/cleavage_study/cleavage_rigid/cleavage_rigid_cp_23.078' already exists. Existing files may be overwritten.\n"
     ]
    },
    {
     "name": "stdout",
     "output_type": "stream",
     "text": [
      "pure_gb_study/cleavage_study/cleavage_rigid/cleavage_rigid_cp_23.078\n"
     ]
    },
    {
     "name": "stderr",
     "output_type": "stream",
     "text": [
      "/root/miniconda3/envs/pyiron_workflow_atomistics/lib/python3.13/site-packages/pyiron_lammps/units.py:236: UserWarning: Warning: Couldn't determine the LAMMPS to pyiron unit conversion type of quantity eng. Returning un-normalized quantity\n",
      "  warnings.warn(\n",
      "2025-08-10 02:20:03,114 - pyiron_log - WARNING - Directory 'pure_gb_study/cleavage_study/cleavage_rigid/cleavage_rigid_cp_21.07' already exists. Existing files may be overwritten.\n"
     ]
    },
    {
     "name": "stdout",
     "output_type": "stream",
     "text": [
      "pure_gb_study/cleavage_study/cleavage_rigid/cleavage_rigid_cp_21.07\n"
     ]
    },
    {
     "name": "stderr",
     "output_type": "stream",
     "text": [
      "/root/miniconda3/envs/pyiron_workflow_atomistics/lib/python3.13/site-packages/pyiron_lammps/units.py:236: UserWarning: Warning: Couldn't determine the LAMMPS to pyiron unit conversion type of quantity eng. Returning un-normalized quantity\n",
      "  warnings.warn(\n"
     ]
    },
    {
     "name": "stdout",
     "output_type": "stream",
     "text": [
      "pure_gb_study/cleavage_study/cleavage_relax\n"
     ]
    },
    {
     "name": "stderr",
     "output_type": "stream",
     "text": [
      "2025-08-10 02:20:03,989 - pyiron_log - WARNING - Directory 'pure_gb_study/cleavage_study/cleavage_relax/cleavage_relax_cp_27.165' already exists. Existing files may be overwritten.\n"
     ]
    },
    {
     "name": "stdout",
     "output_type": "stream",
     "text": [
      "pure_gb_study/cleavage_study/cleavage_relax/cleavage_relax_cp_27.165\n"
     ]
    },
    {
     "name": "stderr",
     "output_type": "stream",
     "text": [
      "/root/miniconda3/envs/pyiron_workflow_atomistics/lib/python3.13/site-packages/pyiron_lammps/units.py:236: UserWarning: Warning: Couldn't determine the LAMMPS to pyiron unit conversion type of quantity eng. Returning un-normalized quantity\n",
      "  warnings.warn(\n",
      "2025-08-10 02:20:04,625 - pyiron_log - WARNING - Directory 'pure_gb_study/cleavage_study/cleavage_relax/cleavage_relax_cp_25.107' already exists. Existing files may be overwritten.\n"
     ]
    },
    {
     "name": "stdout",
     "output_type": "stream",
     "text": [
      "pure_gb_study/cleavage_study/cleavage_relax/cleavage_relax_cp_25.107\n"
     ]
    },
    {
     "name": "stderr",
     "output_type": "stream",
     "text": [
      "/root/miniconda3/envs/pyiron_workflow_atomistics/lib/python3.13/site-packages/pyiron_lammps/units.py:236: UserWarning: Warning: Couldn't determine the LAMMPS to pyiron unit conversion type of quantity eng. Returning un-normalized quantity\n",
      "  warnings.warn(\n",
      "2025-08-10 02:20:05,207 - pyiron_log - WARNING - Directory 'pure_gb_study/cleavage_study/cleavage_relax/cleavage_relax_cp_23.078' already exists. Existing files may be overwritten.\n"
     ]
    },
    {
     "name": "stdout",
     "output_type": "stream",
     "text": [
      "pure_gb_study/cleavage_study/cleavage_relax/cleavage_relax_cp_23.078\n"
     ]
    },
    {
     "name": "stderr",
     "output_type": "stream",
     "text": [
      "/root/miniconda3/envs/pyiron_workflow_atomistics/lib/python3.13/site-packages/pyiron_lammps/units.py:236: UserWarning: Warning: Couldn't determine the LAMMPS to pyiron unit conversion type of quantity eng. Returning un-normalized quantity\n",
      "  warnings.warn(\n",
      "2025-08-10 02:20:05,817 - pyiron_log - WARNING - Directory 'pure_gb_study/cleavage_study/cleavage_relax/cleavage_relax_cp_21.07' already exists. Existing files may be overwritten.\n"
     ]
    },
    {
     "name": "stdout",
     "output_type": "stream",
     "text": [
      "pure_gb_study/cleavage_study/cleavage_relax/cleavage_relax_cp_21.07\n"
     ]
    },
    {
     "name": "stderr",
     "output_type": "stream",
     "text": [
      "/root/miniconda3/envs/pyiron_workflow_atomistics/lib/python3.13/site-packages/pyiron_lammps/units.py:236: UserWarning: Warning: Couldn't determine the LAMMPS to pyiron unit conversion type of quantity eng. Returning un-normalized quantity\n",
      "  warnings.warn(\n"
     ]
    },
    {
     "data": {
      "image/png": "[encoded data removed]",
      "text/plain": [
       "<Figure size 800x600 with 1 Axes>"
      ]
     },
     "metadata": {},
     "output_type": "display_data"
    },
    {
     "data": {
      "image/png": "[encoded data removed]",
      "text/plain": [
       "<Figure size 800x600 with 1 Axes>"
      ]
     },
     "metadata": {},
     "output_type": "display_data"
    }
   ],
   "source": [
    "from pyiron_workflow_atomistics.dataclass_storage import CalcInputMinimize, CalcInputStatic\n",
    "gb_study_list = []\n",
    "for _, row in gbcode_df_unique_structures.head(1).iterrows():\n",
    "    inp = CalcInputMinimize()\n",
    "    inp.relax_cell = False\n",
    "    gb_opt_engine = LammpsEngine(EngineInput = inp)\n",
    "    gb_opt_engine.working_directory = \"pure_gb_study\"\n",
    "    gb_opt_engine.command = \"/root/github_dev/lammps/build_eam/lmp -in in.lmp -log minimize.log\"\n",
    "    gb_opt_engine.lammps_log_filepath = \"minimize.log\"\n",
    "    gb_opt_engine.input_script_pair_style = \"eam/fs\"\n",
    "    gb_opt_engine.path_to_model = \"/root/github_dev/pyiron_workflow_atomistics/notebooks/Al-Fe.eam.fs\"\n",
    "    gb_opt_engine.input_script_dump_every = 100\n",
    "    gb_opt_engine.input_script_dump_filename = \"dump.out\"\n",
    "    \n",
    "    gb_opt_engine_static = LammpsEngine(EngineInput=CalcInputStatic())\n",
    "    gb_opt_engine_static.working_directory = \"pure_gb_study\"\n",
    "    gb_opt_engine_static.command = \"/root/github_dev/lammps/build_eam/lmp -in in.lmp -log static.log\"\n",
    "    gb_opt_engine_static.lammps_log_filepath = \"static.log\"\n",
    "    gb_opt_engine_static.input_script_pair_style = \"eam/fs\"\n",
    "    gb_opt_engine_static.path_to_model = \"/root/github_dev/pyiron_workflow_atomistics/notebooks/Al-Fe.eam.fs\"\n",
    "    from pyiron_workflow_atomistics.gb.gb_study import pure_gb_study\n",
    "    from pyiron_workflow_atomistics.gb.dataclass_storage import CleaveGBStructureInput, PlotCleaveInput\n",
    "    from pyiron_workflow_atomistics.featurisers import distanceMatrixSiteFeaturiser, voronoiSiteFeaturiser\n",
    "    gb_study = pure_gb_study(\n",
    "                    gb_structure = row[\"structure\"],\n",
    "                    equil_bulk_volume = wf1.opt_cubic_cell.outputs.equil_volume_per_atom.value,\n",
    "                    equil_bulk_energy = wf1.opt_cubic_cell.outputs.equil_energy_per_atom.value,\n",
    "                    extensions_stage1 = np.linspace(-0.2, 0.8, 3),\n",
    "                    extensions_stage2 = np.linspace(-0.05, 0.05, 5),\n",
    "                    calculation_engine = gb_opt_engine,\n",
    "                    static_calculation_engine = gb_opt_engine_static,\n",
    "                    length_interpolate_min_n_points=5,\n",
    "                    gb_normal_axis=\"c\",\n",
    "                    vacuum_length=20,\n",
    "                    min_inplane_cell_lengths=[6, 6, None],\n",
    "                    featuriser = voronoiSiteFeaturiser,\n",
    "                    approx_frac = 0.5,\n",
    "                    tolerance = 5.0,\n",
    "                    bulk_offset = 10.0,\n",
    "                    slab_thickness = 2.0,\n",
    "                    featuriser_kwargs = None,\n",
    "                    n_bulk = 10,\n",
    "                    threshold_frac = 0.3,\n",
    "                    CleaveGBStructure_Input=CleaveGBStructureInput(tol=0.3),\n",
    "                    PlotCleave_Input=PlotCleaveInput())()\n",
    "    \n",
    "    # gb_study_list.append(gb_study)\n"
   ]
  },
  {
   "cell_type": "code",
   "execution_count": 5,
   "id": "5a650d30",
   "metadata": {},
   "outputs": [
    {
     "data": {
      "image/png": "[encoded data removed]",
      "text/plain": [
       "<Figure size 1000x600 with 2 Axes>"
      ]
     },
     "metadata": {},
     "output_type": "display_data"
    },
    {
     "data": {
      "text/plain": [
       "{'gb_plane_extractor_plot__fig': <Figure size 1000x600 with 2 Axes>,\n",
       " 'gb_plane_extractor_plot__ax': <Axes: title={'center': 'GB disorder region (proj 0–2)'}, xlabel='Axis 0 (Å)', ylabel='Axis 2 (Å)'>}"
      ]
     },
     "execution_count": 5,
     "metadata": {},
     "output_type": "execute_result"
    }
   ],
   "source": [
    "\n",
    "# from pyiron_workflow_lammps.dataclass_storage import LammpsInput\n",
    "# from pyiron_workflow_lammps.calculator import lammps_calculator_node\n",
    "\n",
    "gb_opt_engine = LammpsEngine(EngineInput = inp)\n",
    "gb_opt_engine.working_directory = \"pure_gb_study\"\n",
    "gb_opt_engine.command = \"/root/github_dev/lammps/build_eam/lmp -in in.lmp -log minimize.log\"\n",
    "gb_opt_engine.lammps_log_filepath = \"minimize.log\"\n",
    "gb_opt_engine.input_script_pair_style = \"eam/fs\"\n",
    "gb_opt_engine.path_to_model = \"/root/github_dev/pyiron_workflow_atomistics/notebooks/Al-Fe.eam.fs\"\n",
    "gb_opt_engine.input_script_dump_every = 100\n",
    "gb_opt_engine.input_script_dump_filename = \"dump.out\"\n",
    "\n",
    "wf2 = Workflow(\"gb_seg_lammps\", delete_existing_savefiles=True)\n",
    "wf2.gb_plane_extractor = find_GB_plane(atoms = gb_study[\"final_pure_grain_boundary_structure\"],\n",
    "                                        featuriser = voronoiSiteFeaturiser,\n",
    "                                        axis = \"c\",\n",
    "                                        approx_frac = 0.5,\n",
    "                                        tolerance = 5.0,\n",
    "                                        bulk_offset = 10.0,\n",
    "                                        slab_thickness = 2.0,\n",
    "                                        featuriser_kwargs = {},\n",
    "                                        n_bulk = 10,\n",
    "                                        threshold_frac = 0.3\n",
    "                                      )\n",
    "wf2.gb_plane_extractor_plot = plot_GB_plane(atoms = gb_study[\"final_pure_grain_boundary_structure\"],\n",
    "                                            res = wf2.gb_plane_extractor.outputs.gb_plane_analysis_dict,\n",
    "                                            projection=(0, 2),\n",
    "                                            reps=(5, 1),\n",
    "                                            figsize=(10, 6),\n",
    "                                            bulk_color='C0',\n",
    "                                            window_cmap='viridis',\n",
    "                                            plane_linestyles=('--', '-'),\n",
    "                                            axis=2,\n",
    "                                            dpi=300,\n",
    "                                            working_directory = \"gb_seg_lammps\",\n",
    "                                            save_filename = f\"pureGB_plane_identifier.jpg\")\n",
    "wf2.run()\n"
   ]
  },
  {
   "cell_type": "code",
   "execution_count": 6,
   "id": "1452fe9b",
   "metadata": {},
   "outputs": [
    {
     "data": {
      "text/plain": [
       "Atoms(symbols='Fe384', pbc=True, cell=[[9.89140824, 6.056740720087877e-16, 6.056740720087877e-16], [0.0, 13.98856366, 8.565524855443993e-16], [0.0, 0.0, 32.415164390489615]])"
      ]
     },
     "execution_count": 6,
     "metadata": {},
     "output_type": "execute_result"
    }
   ],
   "source": [
    "gb_study[\"final_pure_grain_boundary_structure\"]"
   ]
  },
  {
   "cell_type": "code",
   "execution_count": 7,
   "id": "df7f90a1",
   "metadata": {},
   "outputs": [
    {
     "data": {
      "text/plain": [
       "[18,\n",
       " 19,\n",
       " 20,\n",
       " 21,\n",
       " 22,\n",
       " 23,\n",
       " 24,\n",
       " 25,\n",
       " 26,\n",
       " 27,\n",
       " 28,\n",
       " 29,\n",
       " 30,\n",
       " 31,\n",
       " 32,\n",
       " 66,\n",
       " 67,\n",
       " 68,\n",
       " 69,\n",
       " 70,\n",
       " 71,\n",
       " 72,\n",
       " 73,\n",
       " 74,\n",
       " 75,\n",
       " 76,\n",
       " 77,\n",
       " 78,\n",
       " 79,\n",
       " 80,\n",
       " 114,\n",
       " 115,\n",
       " 116,\n",
       " 117,\n",
       " 118,\n",
       " 119,\n",
       " 120,\n",
       " 121,\n",
       " 122,\n",
       " 123,\n",
       " 124,\n",
       " 125,\n",
       " 126,\n",
       " 127,\n",
       " 128,\n",
       " 162,\n",
       " 163,\n",
       " 164,\n",
       " 165,\n",
       " 166,\n",
       " 167,\n",
       " 168,\n",
       " 169,\n",
       " 170,\n",
       " 171,\n",
       " 172,\n",
       " 173,\n",
       " 174,\n",
       " 175,\n",
       " 176,\n",
       " 210,\n",
       " 211,\n",
       " 212,\n",
       " 213,\n",
       " 214,\n",
       " 215,\n",
       " 216,\n",
       " 217,\n",
       " 218,\n",
       " 219,\n",
       " 220,\n",
       " 221,\n",
       " 222,\n",
       " 223,\n",
       " 224,\n",
       " 258,\n",
       " 259,\n",
       " 260,\n",
       " 261,\n",
       " 262,\n",
       " 263,\n",
       " 264,\n",
       " 265,\n",
       " 266,\n",
       " 267,\n",
       " 268,\n",
       " 269,\n",
       " 270,\n",
       " 271,\n",
       " 272,\n",
       " 306,\n",
       " 307,\n",
       " 308,\n",
       " 309,\n",
       " 310,\n",
       " 311,\n",
       " 312,\n",
       " 313,\n",
       " 314,\n",
       " 315,\n",
       " 316,\n",
       " 317,\n",
       " 318,\n",
       " 319,\n",
       " 320,\n",
       " 354,\n",
       " 355,\n",
       " 356,\n",
       " 357,\n",
       " 358,\n",
       " 359,\n",
       " 360,\n",
       " 361,\n",
       " 362,\n",
       " 363,\n",
       " 364,\n",
       " 365,\n",
       " 366,\n",
       " 367,\n",
       " 368]"
      ]
     },
     "execution_count": 7,
     "metadata": {},
     "output_type": "execute_result"
    }
   ],
   "source": [
    "wf2.gb_plane_extractor.outputs.gb_plane_analysis_dict[\"extended_sel_indices\"].value"
   ]
  },
  {
   "cell_type": "code",
   "execution_count": 9,
   "id": "872e427c",
   "metadata": {},
   "outputs": [
    {
     "name": "stderr",
     "output_type": "stream",
     "text": [
      "2025-08-10 02:26:40,522 - pyiron_log - WARNING - Directory 'gb_seg_lammps/pureGB_fE_seg_Al_368' already exists. Existing files may be overwritten.\n"
     ]
    },
    {
     "name": "stdout",
     "output_type": "stream",
     "text": [
      "gb_seg_lammps/pureGB_fE_seg_Al_368\n"
     ]
    },
    {
     "name": "stderr",
     "output_type": "stream",
     "text": [
      "/root/miniconda3/envs/pyiron_workflow_atomistics/lib/python3.13/site-packages/pyiron_lammps/units.py:236: UserWarning: Warning: Couldn't determine the LAMMPS to pyiron unit conversion type of quantity eng. Returning un-normalized quantity\n",
      "  warnings.warn(\n",
      "2025-08-10 02:26:41,237 - pyiron_log - WARNING - Directory 'gb_seg_lammps/pureGB_fE_seg_Al_367' already exists. Existing files may be overwritten.\n"
     ]
    },
    {
     "name": "stdout",
     "output_type": "stream",
     "text": [
      "gb_seg_lammps/pureGB_fE_seg_Al_367\n"
     ]
    },
    {
     "name": "stderr",
     "output_type": "stream",
     "text": [
      "/root/miniconda3/envs/pyiron_workflow_atomistics/lib/python3.13/site-packages/pyiron_lammps/units.py:236: UserWarning: Warning: Couldn't determine the LAMMPS to pyiron unit conversion type of quantity eng. Returning un-normalized quantity\n",
      "  warnings.warn(\n",
      "2025-08-10 02:26:41,922 - pyiron_log - WARNING - Directory 'gb_seg_lammps/pureGB_fE_seg_Al_366' already exists. Existing files may be overwritten.\n"
     ]
    },
    {
     "name": "stdout",
     "output_type": "stream",
     "text": [
      "gb_seg_lammps/pureGB_fE_seg_Al_366\n"
     ]
    },
    {
     "name": "stderr",
     "output_type": "stream",
     "text": [
      "/root/miniconda3/envs/pyiron_workflow_atomistics/lib/python3.13/site-packages/pyiron_lammps/units.py:236: UserWarning: Warning: Couldn't determine the LAMMPS to pyiron unit conversion type of quantity eng. Returning un-normalized quantity\n",
      "  warnings.warn(\n",
      "2025-08-10 02:26:42,628 - pyiron_log - WARNING - Directory 'gb_seg_lammps/pureGB_fE_seg_Al_365' already exists. Existing files may be overwritten.\n"
     ]
    },
    {
     "name": "stdout",
     "output_type": "stream",
     "text": [
      "gb_seg_lammps/pureGB_fE_seg_Al_365\n"
     ]
    },
    {
     "name": "stderr",
     "output_type": "stream",
     "text": [
      "/root/miniconda3/envs/pyiron_workflow_atomistics/lib/python3.13/site-packages/pyiron_lammps/units.py:236: UserWarning: Warning: Couldn't determine the LAMMPS to pyiron unit conversion type of quantity eng. Returning un-normalized quantity\n",
      "  warnings.warn(\n",
      "2025-08-10 02:26:43,459 - pyiron_log - WARNING - Directory 'gb_seg_lammps/pureGB_fE_seg_Al_364' already exists. Existing files may be overwritten.\n"
     ]
    },
    {
     "name": "stdout",
     "output_type": "stream",
     "text": [
      "gb_seg_lammps/pureGB_fE_seg_Al_364\n"
     ]
    },
    {
     "name": "stderr",
     "output_type": "stream",
     "text": [
      "/root/miniconda3/envs/pyiron_workflow_atomistics/lib/python3.13/site-packages/pyiron_lammps/units.py:236: UserWarning: Warning: Couldn't determine the LAMMPS to pyiron unit conversion type of quantity eng. Returning un-normalized quantity\n",
      "  warnings.warn(\n",
      "2025-08-10 02:26:44,217 - pyiron_log - WARNING - Directory 'gb_seg_lammps/pureGB_fE_seg_Al_363' already exists. Existing files may be overwritten.\n"
     ]
    },
    {
     "name": "stdout",
     "output_type": "stream",
     "text": [
      "gb_seg_lammps/pureGB_fE_seg_Al_363\n"
     ]
    },
    {
     "name": "stderr",
     "output_type": "stream",
     "text": [
      "/root/miniconda3/envs/pyiron_workflow_atomistics/lib/python3.13/site-packages/pyiron_lammps/units.py:236: UserWarning: Warning: Couldn't determine the LAMMPS to pyiron unit conversion type of quantity eng. Returning un-normalized quantity\n",
      "  warnings.warn(\n",
      "2025-08-10 02:26:45,035 - pyiron_log - WARNING - Directory 'gb_seg_lammps/pureGB_fE_seg_Al_362' already exists. Existing files may be overwritten.\n"
     ]
    },
    {
     "name": "stdout",
     "output_type": "stream",
     "text": [
      "gb_seg_lammps/pureGB_fE_seg_Al_362\n"
     ]
    },
    {
     "name": "stderr",
     "output_type": "stream",
     "text": [
      "/root/miniconda3/envs/pyiron_workflow_atomistics/lib/python3.13/site-packages/pyiron_lammps/units.py:236: UserWarning: Warning: Couldn't determine the LAMMPS to pyiron unit conversion type of quantity eng. Returning un-normalized quantity\n",
      "  warnings.warn(\n",
      "2025-08-10 02:26:45,875 - pyiron_log - WARNING - Directory 'gb_seg_lammps/pureGB_fE_seg_Al_361' already exists. Existing files may be overwritten.\n"
     ]
    },
    {
     "name": "stdout",
     "output_type": "stream",
     "text": [
      "gb_seg_lammps/pureGB_fE_seg_Al_361\n"
     ]
    },
    {
     "name": "stderr",
     "output_type": "stream",
     "text": [
      "/root/miniconda3/envs/pyiron_workflow_atomistics/lib/python3.13/site-packages/pyiron_lammps/units.py:236: UserWarning: Warning: Couldn't determine the LAMMPS to pyiron unit conversion type of quantity eng. Returning un-normalized quantity\n",
      "  warnings.warn(\n",
      "2025-08-10 02:26:46,635 - pyiron_log - WARNING - Directory 'gb_seg_lammps/pureGB_fE_seg_Al_360' already exists. Existing files may be overwritten.\n"
     ]
    },
    {
     "name": "stdout",
     "output_type": "stream",
     "text": [
      "gb_seg_lammps/pureGB_fE_seg_Al_360\n"
     ]
    },
    {
     "name": "stderr",
     "output_type": "stream",
     "text": [
      "/root/miniconda3/envs/pyiron_workflow_atomistics/lib/python3.13/site-packages/pyiron_lammps/units.py:236: UserWarning: Warning: Couldn't determine the LAMMPS to pyiron unit conversion type of quantity eng. Returning un-normalized quantity\n",
      "  warnings.warn(\n",
      "2025-08-10 02:26:47,479 - pyiron_log - WARNING - Directory 'gb_seg_lammps/pureGB_fE_seg_Al_359' already exists. Existing files may be overwritten.\n"
     ]
    },
    {
     "name": "stdout",
     "output_type": "stream",
     "text": [
      "gb_seg_lammps/pureGB_fE_seg_Al_359\n"
     ]
    },
    {
     "name": "stderr",
     "output_type": "stream",
     "text": [
      "/root/miniconda3/envs/pyiron_workflow_atomistics/lib/python3.13/site-packages/pyiron_lammps/units.py:236: UserWarning: Warning: Couldn't determine the LAMMPS to pyiron unit conversion type of quantity eng. Returning un-normalized quantity\n",
      "  warnings.warn(\n",
      "2025-08-10 02:26:48,276 - pyiron_log - WARNING - Directory 'gb_seg_lammps/pureGB_fE_seg_Al_358' already exists. Existing files may be overwritten.\n"
     ]
    },
    {
     "name": "stdout",
     "output_type": "stream",
     "text": [
      "gb_seg_lammps/pureGB_fE_seg_Al_358\n"
     ]
    },
    {
     "name": "stderr",
     "output_type": "stream",
     "text": [
      "/root/miniconda3/envs/pyiron_workflow_atomistics/lib/python3.13/site-packages/pyiron_lammps/units.py:236: UserWarning: Warning: Couldn't determine the LAMMPS to pyiron unit conversion type of quantity eng. Returning un-normalized quantity\n",
      "  warnings.warn(\n",
      "2025-08-10 02:26:49,059 - pyiron_log - WARNING - Directory 'gb_seg_lammps/pureGB_fE_seg_Al_357' already exists. Existing files may be overwritten.\n"
     ]
    },
    {
     "name": "stdout",
     "output_type": "stream",
     "text": [
      "gb_seg_lammps/pureGB_fE_seg_Al_357\n"
     ]
    },
    {
     "name": "stderr",
     "output_type": "stream",
     "text": [
      "/root/miniconda3/envs/pyiron_workflow_atomistics/lib/python3.13/site-packages/pyiron_lammps/units.py:236: UserWarning: Warning: Couldn't determine the LAMMPS to pyiron unit conversion type of quantity eng. Returning un-normalized quantity\n",
      "  warnings.warn(\n",
      "2025-08-10 02:26:49,825 - pyiron_log - WARNING - Directory 'gb_seg_lammps/pureGB_fE_seg_Al_356' already exists. Existing files may be overwritten.\n"
     ]
    },
    {
     "name": "stdout",
     "output_type": "stream",
     "text": [
      "gb_seg_lammps/pureGB_fE_seg_Al_356\n"
     ]
    },
    {
     "name": "stderr",
     "output_type": "stream",
     "text": [
      "/root/miniconda3/envs/pyiron_workflow_atomistics/lib/python3.13/site-packages/pyiron_lammps/units.py:236: UserWarning: Warning: Couldn't determine the LAMMPS to pyiron unit conversion type of quantity eng. Returning un-normalized quantity\n",
      "  warnings.warn(\n",
      "2025-08-10 02:26:50,656 - pyiron_log - WARNING - Directory 'gb_seg_lammps/pureGB_fE_seg_Al_355' already exists. Existing files may be overwritten.\n"
     ]
    },
    {
     "name": "stdout",
     "output_type": "stream",
     "text": [
      "gb_seg_lammps/pureGB_fE_seg_Al_355\n"
     ]
    },
    {
     "name": "stderr",
     "output_type": "stream",
     "text": [
      "/root/miniconda3/envs/pyiron_workflow_atomistics/lib/python3.13/site-packages/pyiron_lammps/units.py:236: UserWarning: Warning: Couldn't determine the LAMMPS to pyiron unit conversion type of quantity eng. Returning un-normalized quantity\n",
      "  warnings.warn(\n",
      "2025-08-10 02:26:51,416 - pyiron_log - WARNING - Directory 'gb_seg_lammps/pureGB_fE_seg_Al_354' already exists. Existing files may be overwritten.\n"
     ]
    },
    {
     "name": "stdout",
     "output_type": "stream",
     "text": [
      "gb_seg_lammps/pureGB_fE_seg_Al_354\n"
     ]
    },
    {
     "name": "stderr",
     "output_type": "stream",
     "text": [
      "/root/miniconda3/envs/pyiron_workflow_atomistics/lib/python3.13/site-packages/pyiron_lammps/units.py:236: UserWarning: Warning: Couldn't determine the LAMMPS to pyiron unit conversion type of quantity eng. Returning un-normalized quantity\n",
      "  warnings.warn(\n",
      "2025-08-10 02:26:52,168 - pyiron_log - WARNING - Directory 'gb_seg_lammps/pureGB_fE_seg_Al_320' already exists. Existing files may be overwritten.\n"
     ]
    },
    {
     "name": "stdout",
     "output_type": "stream",
     "text": [
      "gb_seg_lammps/pureGB_fE_seg_Al_320\n"
     ]
    },
    {
     "name": "stderr",
     "output_type": "stream",
     "text": [
      "/root/miniconda3/envs/pyiron_workflow_atomistics/lib/python3.13/site-packages/pyiron_lammps/units.py:236: UserWarning: Warning: Couldn't determine the LAMMPS to pyiron unit conversion type of quantity eng. Returning un-normalized quantity\n",
      "  warnings.warn(\n",
      "2025-08-10 02:26:52,899 - pyiron_log - WARNING - Directory 'gb_seg_lammps/pureGB_fE_seg_Al_319' already exists. Existing files may be overwritten.\n"
     ]
    },
    {
     "name": "stdout",
     "output_type": "stream",
     "text": [
      "gb_seg_lammps/pureGB_fE_seg_Al_319\n"
     ]
    },
    {
     "name": "stderr",
     "output_type": "stream",
     "text": [
      "/root/miniconda3/envs/pyiron_workflow_atomistics/lib/python3.13/site-packages/pyiron_lammps/units.py:236: UserWarning: Warning: Couldn't determine the LAMMPS to pyiron unit conversion type of quantity eng. Returning un-normalized quantity\n",
      "  warnings.warn(\n",
      "2025-08-10 02:26:53,535 - pyiron_log - WARNING - Directory 'gb_seg_lammps/pureGB_fE_seg_Al_318' already exists. Existing files may be overwritten.\n"
     ]
    },
    {
     "name": "stdout",
     "output_type": "stream",
     "text": [
      "gb_seg_lammps/pureGB_fE_seg_Al_318\n"
     ]
    },
    {
     "name": "stderr",
     "output_type": "stream",
     "text": [
      "/root/miniconda3/envs/pyiron_workflow_atomistics/lib/python3.13/site-packages/pyiron_lammps/units.py:236: UserWarning: Warning: Couldn't determine the LAMMPS to pyiron unit conversion type of quantity eng. Returning un-normalized quantity\n",
      "  warnings.warn(\n",
      "2025-08-10 02:26:54,302 - pyiron_log - WARNING - Directory 'gb_seg_lammps/pureGB_fE_seg_Al_317' already exists. Existing files may be overwritten.\n"
     ]
    },
    {
     "name": "stdout",
     "output_type": "stream",
     "text": [
      "gb_seg_lammps/pureGB_fE_seg_Al_317\n"
     ]
    },
    {
     "name": "stderr",
     "output_type": "stream",
     "text": [
      "/root/miniconda3/envs/pyiron_workflow_atomistics/lib/python3.13/site-packages/pyiron_lammps/units.py:236: UserWarning: Warning: Couldn't determine the LAMMPS to pyiron unit conversion type of quantity eng. Returning un-normalized quantity\n",
      "  warnings.warn(\n",
      "2025-08-10 02:26:55,191 - pyiron_log - WARNING - Directory 'gb_seg_lammps/pureGB_fE_seg_Al_316' already exists. Existing files may be overwritten.\n"
     ]
    },
    {
     "name": "stdout",
     "output_type": "stream",
     "text": [
      "gb_seg_lammps/pureGB_fE_seg_Al_316\n"
     ]
    },
    {
     "name": "stderr",
     "output_type": "stream",
     "text": [
      "/root/miniconda3/envs/pyiron_workflow_atomistics/lib/python3.13/site-packages/pyiron_lammps/units.py:236: UserWarning: Warning: Couldn't determine the LAMMPS to pyiron unit conversion type of quantity eng. Returning un-normalized quantity\n",
      "  warnings.warn(\n",
      "2025-08-10 02:26:56,021 - pyiron_log - WARNING - Directory 'gb_seg_lammps/pureGB_fE_seg_Al_315' already exists. Existing files may be overwritten.\n"
     ]
    },
    {
     "name": "stdout",
     "output_type": "stream",
     "text": [
      "gb_seg_lammps/pureGB_fE_seg_Al_315\n"
     ]
    },
    {
     "name": "stderr",
     "output_type": "stream",
     "text": [
      "/root/miniconda3/envs/pyiron_workflow_atomistics/lib/python3.13/site-packages/pyiron_lammps/units.py:236: UserWarning: Warning: Couldn't determine the LAMMPS to pyiron unit conversion type of quantity eng. Returning un-normalized quantity\n",
      "  warnings.warn(\n",
      "2025-08-10 02:26:56,889 - pyiron_log - WARNING - Directory 'gb_seg_lammps/pureGB_fE_seg_Al_314' already exists. Existing files may be overwritten.\n"
     ]
    },
    {
     "name": "stdout",
     "output_type": "stream",
     "text": [
      "gb_seg_lammps/pureGB_fE_seg_Al_314\n"
     ]
    },
    {
     "name": "stderr",
     "output_type": "stream",
     "text": [
      "/root/miniconda3/envs/pyiron_workflow_atomistics/lib/python3.13/site-packages/pyiron_lammps/units.py:236: UserWarning: Warning: Couldn't determine the LAMMPS to pyiron unit conversion type of quantity eng. Returning un-normalized quantity\n",
      "  warnings.warn(\n",
      "2025-08-10 02:26:57,625 - pyiron_log - WARNING - Directory 'gb_seg_lammps/pureGB_fE_seg_Al_313' already exists. Existing files may be overwritten.\n"
     ]
    },
    {
     "name": "stdout",
     "output_type": "stream",
     "text": [
      "gb_seg_lammps/pureGB_fE_seg_Al_313\n"
     ]
    },
    {
     "name": "stderr",
     "output_type": "stream",
     "text": [
      "/root/miniconda3/envs/pyiron_workflow_atomistics/lib/python3.13/site-packages/pyiron_lammps/units.py:236: UserWarning: Warning: Couldn't determine the LAMMPS to pyiron unit conversion type of quantity eng. Returning un-normalized quantity\n",
      "  warnings.warn(\n",
      "2025-08-10 02:26:58,318 - pyiron_log - WARNING - Directory 'gb_seg_lammps/pureGB_fE_seg_Al_312' already exists. Existing files may be overwritten.\n"
     ]
    },
    {
     "name": "stdout",
     "output_type": "stream",
     "text": [
      "gb_seg_lammps/pureGB_fE_seg_Al_312\n"
     ]
    },
    {
     "name": "stderr",
     "output_type": "stream",
     "text": [
      "/root/miniconda3/envs/pyiron_workflow_atomistics/lib/python3.13/site-packages/pyiron_lammps/units.py:236: UserWarning: Warning: Couldn't determine the LAMMPS to pyiron unit conversion type of quantity eng. Returning un-normalized quantity\n",
      "  warnings.warn(\n",
      "2025-08-10 02:26:59,037 - pyiron_log - WARNING - Directory 'gb_seg_lammps/pureGB_fE_seg_Al_311' already exists. Existing files may be overwritten.\n"
     ]
    },
    {
     "name": "stdout",
     "output_type": "stream",
     "text": [
      "gb_seg_lammps/pureGB_fE_seg_Al_311\n"
     ]
    },
    {
     "name": "stderr",
     "output_type": "stream",
     "text": [
      "/root/miniconda3/envs/pyiron_workflow_atomistics/lib/python3.13/site-packages/pyiron_lammps/units.py:236: UserWarning: Warning: Couldn't determine the LAMMPS to pyiron unit conversion type of quantity eng. Returning un-normalized quantity\n",
      "  warnings.warn(\n",
      "2025-08-10 02:26:59,701 - pyiron_log - WARNING - Directory 'gb_seg_lammps/pureGB_fE_seg_Al_310' already exists. Existing files may be overwritten.\n"
     ]
    },
    {
     "name": "stdout",
     "output_type": "stream",
     "text": [
      "gb_seg_lammps/pureGB_fE_seg_Al_310\n"
     ]
    },
    {
     "name": "stderr",
     "output_type": "stream",
     "text": [
      "/root/miniconda3/envs/pyiron_workflow_atomistics/lib/python3.13/site-packages/pyiron_lammps/units.py:236: UserWarning: Warning: Couldn't determine the LAMMPS to pyiron unit conversion type of quantity eng. Returning un-normalized quantity\n",
      "  warnings.warn(\n",
      "2025-08-10 02:27:00,459 - pyiron_log - WARNING - Directory 'gb_seg_lammps/pureGB_fE_seg_Al_309' already exists. Existing files may be overwritten.\n"
     ]
    },
    {
     "name": "stdout",
     "output_type": "stream",
     "text": [
      "gb_seg_lammps/pureGB_fE_seg_Al_309\n"
     ]
    },
    {
     "name": "stderr",
     "output_type": "stream",
     "text": [
      "/root/miniconda3/envs/pyiron_workflow_atomistics/lib/python3.13/site-packages/pyiron_lammps/units.py:236: UserWarning: Warning: Couldn't determine the LAMMPS to pyiron unit conversion type of quantity eng. Returning un-normalized quantity\n",
      "  warnings.warn(\n",
      "2025-08-10 02:27:01,090 - pyiron_log - WARNING - Directory 'gb_seg_lammps/pureGB_fE_seg_Al_308' already exists. Existing files may be overwritten.\n"
     ]
    },
    {
     "name": "stdout",
     "output_type": "stream",
     "text": [
      "gb_seg_lammps/pureGB_fE_seg_Al_308\n"
     ]
    },
    {
     "name": "stderr",
     "output_type": "stream",
     "text": [
      "/root/miniconda3/envs/pyiron_workflow_atomistics/lib/python3.13/site-packages/pyiron_lammps/units.py:236: UserWarning: Warning: Couldn't determine the LAMMPS to pyiron unit conversion type of quantity eng. Returning un-normalized quantity\n",
      "  warnings.warn(\n",
      "2025-08-10 02:27:01,809 - pyiron_log - WARNING - Directory 'gb_seg_lammps/pureGB_fE_seg_Al_307' already exists. Existing files may be overwritten.\n"
     ]
    },
    {
     "name": "stdout",
     "output_type": "stream",
     "text": [
      "gb_seg_lammps/pureGB_fE_seg_Al_307\n"
     ]
    },
    {
     "name": "stderr",
     "output_type": "stream",
     "text": [
      "/root/miniconda3/envs/pyiron_workflow_atomistics/lib/python3.13/site-packages/pyiron_lammps/units.py:236: UserWarning: Warning: Couldn't determine the LAMMPS to pyiron unit conversion type of quantity eng. Returning un-normalized quantity\n",
      "  warnings.warn(\n",
      "2025-08-10 02:27:02,514 - pyiron_log - WARNING - Directory 'gb_seg_lammps/pureGB_fE_seg_Al_306' already exists. Existing files may be overwritten.\n"
     ]
    },
    {
     "name": "stdout",
     "output_type": "stream",
     "text": [
      "gb_seg_lammps/pureGB_fE_seg_Al_306\n"
     ]
    },
    {
     "name": "stderr",
     "output_type": "stream",
     "text": [
      "/root/miniconda3/envs/pyiron_workflow_atomistics/lib/python3.13/site-packages/pyiron_lammps/units.py:236: UserWarning: Warning: Couldn't determine the LAMMPS to pyiron unit conversion type of quantity eng. Returning un-normalized quantity\n",
      "  warnings.warn(\n",
      "2025-08-10 02:27:03,200 - pyiron_log - WARNING - Directory 'gb_seg_lammps/pureGB_fE_seg_Al_272' already exists. Existing files may be overwritten.\n"
     ]
    },
    {
     "name": "stdout",
     "output_type": "stream",
     "text": [
      "gb_seg_lammps/pureGB_fE_seg_Al_272\n"
     ]
    },
    {
     "name": "stderr",
     "output_type": "stream",
     "text": [
      "/root/miniconda3/envs/pyiron_workflow_atomistics/lib/python3.13/site-packages/pyiron_lammps/units.py:236: UserWarning: Warning: Couldn't determine the LAMMPS to pyiron unit conversion type of quantity eng. Returning un-normalized quantity\n",
      "  warnings.warn(\n",
      "2025-08-10 02:27:03,768 - pyiron_log - WARNING - Directory 'gb_seg_lammps/pureGB_fE_seg_Al_271' already exists. Existing files may be overwritten.\n"
     ]
    },
    {
     "name": "stdout",
     "output_type": "stream",
     "text": [
      "gb_seg_lammps/pureGB_fE_seg_Al_271\n"
     ]
    },
    {
     "name": "stderr",
     "output_type": "stream",
     "text": [
      "/root/miniconda3/envs/pyiron_workflow_atomistics/lib/python3.13/site-packages/pyiron_lammps/units.py:236: UserWarning: Warning: Couldn't determine the LAMMPS to pyiron unit conversion type of quantity eng. Returning un-normalized quantity\n",
      "  warnings.warn(\n",
      "2025-08-10 02:27:04,352 - pyiron_log - WARNING - Directory 'gb_seg_lammps/pureGB_fE_seg_Al_270' already exists. Existing files may be overwritten.\n"
     ]
    },
    {
     "name": "stdout",
     "output_type": "stream",
     "text": [
      "gb_seg_lammps/pureGB_fE_seg_Al_270\n"
     ]
    },
    {
     "name": "stderr",
     "output_type": "stream",
     "text": [
      "/root/miniconda3/envs/pyiron_workflow_atomistics/lib/python3.13/site-packages/pyiron_lammps/units.py:236: UserWarning: Warning: Couldn't determine the LAMMPS to pyiron unit conversion type of quantity eng. Returning un-normalized quantity\n",
      "  warnings.warn(\n",
      "2025-08-10 02:27:04,922 - pyiron_log - WARNING - Directory 'gb_seg_lammps/pureGB_fE_seg_Al_269' already exists. Existing files may be overwritten.\n"
     ]
    },
    {
     "name": "stdout",
     "output_type": "stream",
     "text": [
      "gb_seg_lammps/pureGB_fE_seg_Al_269\n"
     ]
    },
    {
     "name": "stderr",
     "output_type": "stream",
     "text": [
      "/root/miniconda3/envs/pyiron_workflow_atomistics/lib/python3.13/site-packages/pyiron_lammps/units.py:236: UserWarning: Warning: Couldn't determine the LAMMPS to pyiron unit conversion type of quantity eng. Returning un-normalized quantity\n",
      "  warnings.warn(\n",
      "2025-08-10 02:27:05,592 - pyiron_log - WARNING - Directory 'gb_seg_lammps/pureGB_fE_seg_Al_268' already exists. Existing files may be overwritten.\n"
     ]
    },
    {
     "name": "stdout",
     "output_type": "stream",
     "text": [
      "gb_seg_lammps/pureGB_fE_seg_Al_268\n"
     ]
    },
    {
     "name": "stderr",
     "output_type": "stream",
     "text": [
      "/root/miniconda3/envs/pyiron_workflow_atomistics/lib/python3.13/site-packages/pyiron_lammps/units.py:236: UserWarning: Warning: Couldn't determine the LAMMPS to pyiron unit conversion type of quantity eng. Returning un-normalized quantity\n",
      "  warnings.warn(\n",
      "2025-08-10 02:27:06,232 - pyiron_log - WARNING - Directory 'gb_seg_lammps/pureGB_fE_seg_Al_267' already exists. Existing files may be overwritten.\n"
     ]
    },
    {
     "name": "stdout",
     "output_type": "stream",
     "text": [
      "gb_seg_lammps/pureGB_fE_seg_Al_267\n"
     ]
    },
    {
     "name": "stderr",
     "output_type": "stream",
     "text": [
      "/root/miniconda3/envs/pyiron_workflow_atomistics/lib/python3.13/site-packages/pyiron_lammps/units.py:236: UserWarning: Warning: Couldn't determine the LAMMPS to pyiron unit conversion type of quantity eng. Returning un-normalized quantity\n",
      "  warnings.warn(\n",
      "2025-08-10 02:27:06,889 - pyiron_log - WARNING - Directory 'gb_seg_lammps/pureGB_fE_seg_Al_266' already exists. Existing files may be overwritten.\n"
     ]
    },
    {
     "name": "stdout",
     "output_type": "stream",
     "text": [
      "gb_seg_lammps/pureGB_fE_seg_Al_266\n"
     ]
    },
    {
     "name": "stderr",
     "output_type": "stream",
     "text": [
      "/root/miniconda3/envs/pyiron_workflow_atomistics/lib/python3.13/site-packages/pyiron_lammps/units.py:236: UserWarning: Warning: Couldn't determine the LAMMPS to pyiron unit conversion type of quantity eng. Returning un-normalized quantity\n",
      "  warnings.warn(\n",
      "2025-08-10 02:27:07,633 - pyiron_log - WARNING - Directory 'gb_seg_lammps/pureGB_fE_seg_Al_265' already exists. Existing files may be overwritten.\n"
     ]
    },
    {
     "name": "stdout",
     "output_type": "stream",
     "text": [
      "gb_seg_lammps/pureGB_fE_seg_Al_265\n"
     ]
    },
    {
     "name": "stderr",
     "output_type": "stream",
     "text": [
      "/root/miniconda3/envs/pyiron_workflow_atomistics/lib/python3.13/site-packages/pyiron_lammps/units.py:236: UserWarning: Warning: Couldn't determine the LAMMPS to pyiron unit conversion type of quantity eng. Returning un-normalized quantity\n",
      "  warnings.warn(\n",
      "2025-08-10 02:27:08,294 - pyiron_log - WARNING - Directory 'gb_seg_lammps/pureGB_fE_seg_Al_264' already exists. Existing files may be overwritten.\n"
     ]
    },
    {
     "name": "stdout",
     "output_type": "stream",
     "text": [
      "gb_seg_lammps/pureGB_fE_seg_Al_264\n"
     ]
    },
    {
     "name": "stderr",
     "output_type": "stream",
     "text": [
      "/root/miniconda3/envs/pyiron_workflow_atomistics/lib/python3.13/site-packages/pyiron_lammps/units.py:236: UserWarning: Warning: Couldn't determine the LAMMPS to pyiron unit conversion type of quantity eng. Returning un-normalized quantity\n",
      "  warnings.warn(\n",
      "2025-08-10 02:27:09,107 - pyiron_log - WARNING - Directory 'gb_seg_lammps/pureGB_fE_seg_Al_263' already exists. Existing files may be overwritten.\n"
     ]
    },
    {
     "name": "stdout",
     "output_type": "stream",
     "text": [
      "gb_seg_lammps/pureGB_fE_seg_Al_263\n"
     ]
    },
    {
     "name": "stderr",
     "output_type": "stream",
     "text": [
      "/root/miniconda3/envs/pyiron_workflow_atomistics/lib/python3.13/site-packages/pyiron_lammps/units.py:236: UserWarning: Warning: Couldn't determine the LAMMPS to pyiron unit conversion type of quantity eng. Returning un-normalized quantity\n",
      "  warnings.warn(\n",
      "2025-08-10 02:27:09,787 - pyiron_log - WARNING - Directory 'gb_seg_lammps/pureGB_fE_seg_Al_262' already exists. Existing files may be overwritten.\n"
     ]
    },
    {
     "name": "stdout",
     "output_type": "stream",
     "text": [
      "gb_seg_lammps/pureGB_fE_seg_Al_262\n"
     ]
    },
    {
     "name": "stderr",
     "output_type": "stream",
     "text": [
      "/root/miniconda3/envs/pyiron_workflow_atomistics/lib/python3.13/site-packages/pyiron_lammps/units.py:236: UserWarning: Warning: Couldn't determine the LAMMPS to pyiron unit conversion type of quantity eng. Returning un-normalized quantity\n",
      "  warnings.warn(\n",
      "2025-08-10 02:27:10,599 - pyiron_log - WARNING - Directory 'gb_seg_lammps/pureGB_fE_seg_Al_261' already exists. Existing files may be overwritten.\n"
     ]
    },
    {
     "name": "stdout",
     "output_type": "stream",
     "text": [
      "gb_seg_lammps/pureGB_fE_seg_Al_261\n"
     ]
    },
    {
     "name": "stderr",
     "output_type": "stream",
     "text": [
      "/root/miniconda3/envs/pyiron_workflow_atomistics/lib/python3.13/site-packages/pyiron_lammps/units.py:236: UserWarning: Warning: Couldn't determine the LAMMPS to pyiron unit conversion type of quantity eng. Returning un-normalized quantity\n",
      "  warnings.warn(\n",
      "2025-08-10 02:27:11,240 - pyiron_log - WARNING - Directory 'gb_seg_lammps/pureGB_fE_seg_Al_260' already exists. Existing files may be overwritten.\n"
     ]
    },
    {
     "name": "stdout",
     "output_type": "stream",
     "text": [
      "gb_seg_lammps/pureGB_fE_seg_Al_260\n"
     ]
    },
    {
     "name": "stderr",
     "output_type": "stream",
     "text": [
      "/root/miniconda3/envs/pyiron_workflow_atomistics/lib/python3.13/site-packages/pyiron_lammps/units.py:236: UserWarning: Warning: Couldn't determine the LAMMPS to pyiron unit conversion type of quantity eng. Returning un-normalized quantity\n",
      "  warnings.warn(\n",
      "2025-08-10 02:27:11,868 - pyiron_log - WARNING - Directory 'gb_seg_lammps/pureGB_fE_seg_Al_259' already exists. Existing files may be overwritten.\n"
     ]
    },
    {
     "name": "stdout",
     "output_type": "stream",
     "text": [
      "gb_seg_lammps/pureGB_fE_seg_Al_259\n"
     ]
    },
    {
     "name": "stderr",
     "output_type": "stream",
     "text": [
      "/root/miniconda3/envs/pyiron_workflow_atomistics/lib/python3.13/site-packages/pyiron_lammps/units.py:236: UserWarning: Warning: Couldn't determine the LAMMPS to pyiron unit conversion type of quantity eng. Returning un-normalized quantity\n",
      "  warnings.warn(\n",
      "2025-08-10 02:27:12,516 - pyiron_log - WARNING - Directory 'gb_seg_lammps/pureGB_fE_seg_Al_258' already exists. Existing files may be overwritten.\n"
     ]
    },
    {
     "name": "stdout",
     "output_type": "stream",
     "text": [
      "gb_seg_lammps/pureGB_fE_seg_Al_258\n"
     ]
    },
    {
     "name": "stderr",
     "output_type": "stream",
     "text": [
      "/root/miniconda3/envs/pyiron_workflow_atomistics/lib/python3.13/site-packages/pyiron_lammps/units.py:236: UserWarning: Warning: Couldn't determine the LAMMPS to pyiron unit conversion type of quantity eng. Returning un-normalized quantity\n",
      "  warnings.warn(\n",
      "2025-08-10 02:27:13,223 - pyiron_log - WARNING - Directory 'gb_seg_lammps/pureGB_fE_seg_Al_224' already exists. Existing files may be overwritten.\n"
     ]
    },
    {
     "name": "stdout",
     "output_type": "stream",
     "text": [
      "gb_seg_lammps/pureGB_fE_seg_Al_224\n"
     ]
    },
    {
     "name": "stderr",
     "output_type": "stream",
     "text": [
      "/root/miniconda3/envs/pyiron_workflow_atomistics/lib/python3.13/site-packages/pyiron_lammps/units.py:236: UserWarning: Warning: Couldn't determine the LAMMPS to pyiron unit conversion type of quantity eng. Returning un-normalized quantity\n",
      "  warnings.warn(\n",
      "2025-08-10 02:27:13,980 - pyiron_log - WARNING - Directory 'gb_seg_lammps/pureGB_fE_seg_Al_223' already exists. Existing files may be overwritten.\n"
     ]
    },
    {
     "name": "stdout",
     "output_type": "stream",
     "text": [
      "gb_seg_lammps/pureGB_fE_seg_Al_223\n"
     ]
    },
    {
     "name": "stderr",
     "output_type": "stream",
     "text": [
      "/root/miniconda3/envs/pyiron_workflow_atomistics/lib/python3.13/site-packages/pyiron_lammps/units.py:236: UserWarning: Warning: Couldn't determine the LAMMPS to pyiron unit conversion type of quantity eng. Returning un-normalized quantity\n",
      "  warnings.warn(\n",
      "2025-08-10 02:27:14,655 - pyiron_log - WARNING - Directory 'gb_seg_lammps/pureGB_fE_seg_Al_222' already exists. Existing files may be overwritten.\n"
     ]
    },
    {
     "name": "stdout",
     "output_type": "stream",
     "text": [
      "gb_seg_lammps/pureGB_fE_seg_Al_222\n"
     ]
    },
    {
     "name": "stderr",
     "output_type": "stream",
     "text": [
      "/root/miniconda3/envs/pyiron_workflow_atomistics/lib/python3.13/site-packages/pyiron_lammps/units.py:236: UserWarning: Warning: Couldn't determine the LAMMPS to pyiron unit conversion type of quantity eng. Returning un-normalized quantity\n",
      "  warnings.warn(\n",
      "2025-08-10 02:27:15,245 - pyiron_log - WARNING - Directory 'gb_seg_lammps/pureGB_fE_seg_Al_221' already exists. Existing files may be overwritten.\n"
     ]
    },
    {
     "name": "stdout",
     "output_type": "stream",
     "text": [
      "gb_seg_lammps/pureGB_fE_seg_Al_221\n"
     ]
    },
    {
     "name": "stderr",
     "output_type": "stream",
     "text": [
      "/root/miniconda3/envs/pyiron_workflow_atomistics/lib/python3.13/site-packages/pyiron_lammps/units.py:236: UserWarning: Warning: Couldn't determine the LAMMPS to pyiron unit conversion type of quantity eng. Returning un-normalized quantity\n",
      "  warnings.warn(\n",
      "2025-08-10 02:27:16,011 - pyiron_log - WARNING - Directory 'gb_seg_lammps/pureGB_fE_seg_Al_220' already exists. Existing files may be overwritten.\n"
     ]
    },
    {
     "name": "stdout",
     "output_type": "stream",
     "text": [
      "gb_seg_lammps/pureGB_fE_seg_Al_220\n"
     ]
    },
    {
     "name": "stderr",
     "output_type": "stream",
     "text": [
      "/root/miniconda3/envs/pyiron_workflow_atomistics/lib/python3.13/site-packages/pyiron_lammps/units.py:236: UserWarning: Warning: Couldn't determine the LAMMPS to pyiron unit conversion type of quantity eng. Returning un-normalized quantity\n",
      "  warnings.warn(\n",
      "2025-08-10 02:27:16,813 - pyiron_log - WARNING - Directory 'gb_seg_lammps/pureGB_fE_seg_Al_219' already exists. Existing files may be overwritten.\n"
     ]
    },
    {
     "name": "stdout",
     "output_type": "stream",
     "text": [
      "gb_seg_lammps/pureGB_fE_seg_Al_219\n"
     ]
    },
    {
     "name": "stderr",
     "output_type": "stream",
     "text": [
      "/root/miniconda3/envs/pyiron_workflow_atomistics/lib/python3.13/site-packages/pyiron_lammps/units.py:236: UserWarning: Warning: Couldn't determine the LAMMPS to pyiron unit conversion type of quantity eng. Returning un-normalized quantity\n",
      "  warnings.warn(\n",
      "2025-08-10 02:27:17,509 - pyiron_log - WARNING - Directory 'gb_seg_lammps/pureGB_fE_seg_Al_218' already exists. Existing files may be overwritten.\n"
     ]
    },
    {
     "name": "stdout",
     "output_type": "stream",
     "text": [
      "gb_seg_lammps/pureGB_fE_seg_Al_218\n"
     ]
    },
    {
     "name": "stderr",
     "output_type": "stream",
     "text": [
      "/root/miniconda3/envs/pyiron_workflow_atomistics/lib/python3.13/site-packages/pyiron_lammps/units.py:236: UserWarning: Warning: Couldn't determine the LAMMPS to pyiron unit conversion type of quantity eng. Returning un-normalized quantity\n",
      "  warnings.warn(\n",
      "2025-08-10 02:27:18,180 - pyiron_log - WARNING - Directory 'gb_seg_lammps/pureGB_fE_seg_Al_217' already exists. Existing files may be overwritten.\n"
     ]
    },
    {
     "name": "stdout",
     "output_type": "stream",
     "text": [
      "gb_seg_lammps/pureGB_fE_seg_Al_217\n"
     ]
    },
    {
     "name": "stderr",
     "output_type": "stream",
     "text": [
      "/root/miniconda3/envs/pyiron_workflow_atomistics/lib/python3.13/site-packages/pyiron_lammps/units.py:236: UserWarning: Warning: Couldn't determine the LAMMPS to pyiron unit conversion type of quantity eng. Returning un-normalized quantity\n",
      "  warnings.warn(\n",
      "2025-08-10 02:27:18,793 - pyiron_log - WARNING - Directory 'gb_seg_lammps/pureGB_fE_seg_Al_216' already exists. Existing files may be overwritten.\n"
     ]
    },
    {
     "name": "stdout",
     "output_type": "stream",
     "text": [
      "gb_seg_lammps/pureGB_fE_seg_Al_216\n"
     ]
    },
    {
     "name": "stderr",
     "output_type": "stream",
     "text": [
      "/root/miniconda3/envs/pyiron_workflow_atomistics/lib/python3.13/site-packages/pyiron_lammps/units.py:236: UserWarning: Warning: Couldn't determine the LAMMPS to pyiron unit conversion type of quantity eng. Returning un-normalized quantity\n",
      "  warnings.warn(\n",
      "2025-08-10 02:27:19,519 - pyiron_log - WARNING - Directory 'gb_seg_lammps/pureGB_fE_seg_Al_215' already exists. Existing files may be overwritten.\n"
     ]
    },
    {
     "name": "stdout",
     "output_type": "stream",
     "text": [
      "gb_seg_lammps/pureGB_fE_seg_Al_215\n"
     ]
    },
    {
     "name": "stderr",
     "output_type": "stream",
     "text": [
      "/root/miniconda3/envs/pyiron_workflow_atomistics/lib/python3.13/site-packages/pyiron_lammps/units.py:236: UserWarning: Warning: Couldn't determine the LAMMPS to pyiron unit conversion type of quantity eng. Returning un-normalized quantity\n",
      "  warnings.warn(\n",
      "2025-08-10 02:27:20,204 - pyiron_log - WARNING - Directory 'gb_seg_lammps/pureGB_fE_seg_Al_214' already exists. Existing files may be overwritten.\n"
     ]
    },
    {
     "name": "stdout",
     "output_type": "stream",
     "text": [
      "gb_seg_lammps/pureGB_fE_seg_Al_214\n"
     ]
    },
    {
     "name": "stderr",
     "output_type": "stream",
     "text": [
      "/root/miniconda3/envs/pyiron_workflow_atomistics/lib/python3.13/site-packages/pyiron_lammps/units.py:236: UserWarning: Warning: Couldn't determine the LAMMPS to pyiron unit conversion type of quantity eng. Returning un-normalized quantity\n",
      "  warnings.warn(\n",
      "2025-08-10 02:27:20,887 - pyiron_log - WARNING - Directory 'gb_seg_lammps/pureGB_fE_seg_Al_213' already exists. Existing files may be overwritten.\n"
     ]
    },
    {
     "name": "stdout",
     "output_type": "stream",
     "text": [
      "gb_seg_lammps/pureGB_fE_seg_Al_213\n"
     ]
    },
    {
     "name": "stderr",
     "output_type": "stream",
     "text": [
      "/root/miniconda3/envs/pyiron_workflow_atomistics/lib/python3.13/site-packages/pyiron_lammps/units.py:236: UserWarning: Warning: Couldn't determine the LAMMPS to pyiron unit conversion type of quantity eng. Returning un-normalized quantity\n",
      "  warnings.warn(\n",
      "2025-08-10 02:27:21,513 - pyiron_log - WARNING - Directory 'gb_seg_lammps/pureGB_fE_seg_Al_212' already exists. Existing files may be overwritten.\n"
     ]
    },
    {
     "name": "stdout",
     "output_type": "stream",
     "text": [
      "gb_seg_lammps/pureGB_fE_seg_Al_212\n"
     ]
    },
    {
     "name": "stderr",
     "output_type": "stream",
     "text": [
      "/root/miniconda3/envs/pyiron_workflow_atomistics/lib/python3.13/site-packages/pyiron_lammps/units.py:236: UserWarning: Warning: Couldn't determine the LAMMPS to pyiron unit conversion type of quantity eng. Returning un-normalized quantity\n",
      "  warnings.warn(\n",
      "2025-08-10 02:27:22,205 - pyiron_log - WARNING - Directory 'gb_seg_lammps/pureGB_fE_seg_Al_211' already exists. Existing files may be overwritten.\n"
     ]
    },
    {
     "name": "stdout",
     "output_type": "stream",
     "text": [
      "gb_seg_lammps/pureGB_fE_seg_Al_211\n"
     ]
    },
    {
     "name": "stderr",
     "output_type": "stream",
     "text": [
      "/root/miniconda3/envs/pyiron_workflow_atomistics/lib/python3.13/site-packages/pyiron_lammps/units.py:236: UserWarning: Warning: Couldn't determine the LAMMPS to pyiron unit conversion type of quantity eng. Returning un-normalized quantity\n",
      "  warnings.warn(\n",
      "2025-08-10 02:27:22,870 - pyiron_log - WARNING - Directory 'gb_seg_lammps/pureGB_fE_seg_Al_210' already exists. Existing files may be overwritten.\n"
     ]
    },
    {
     "name": "stdout",
     "output_type": "stream",
     "text": [
      "gb_seg_lammps/pureGB_fE_seg_Al_210\n"
     ]
    },
    {
     "name": "stderr",
     "output_type": "stream",
     "text": [
      "/root/miniconda3/envs/pyiron_workflow_atomistics/lib/python3.13/site-packages/pyiron_lammps/units.py:236: UserWarning: Warning: Couldn't determine the LAMMPS to pyiron unit conversion type of quantity eng. Returning un-normalized quantity\n",
      "  warnings.warn(\n",
      "2025-08-10 02:27:23,581 - pyiron_log - WARNING - Directory 'gb_seg_lammps/pureGB_fE_seg_Al_176' already exists. Existing files may be overwritten.\n"
     ]
    },
    {
     "name": "stdout",
     "output_type": "stream",
     "text": [
      "gb_seg_lammps/pureGB_fE_seg_Al_176\n"
     ]
    },
    {
     "name": "stderr",
     "output_type": "stream",
     "text": [
      "/root/miniconda3/envs/pyiron_workflow_atomistics/lib/python3.13/site-packages/pyiron_lammps/units.py:236: UserWarning: Warning: Couldn't determine the LAMMPS to pyiron unit conversion type of quantity eng. Returning un-normalized quantity\n",
      "  warnings.warn(\n",
      "2025-08-10 02:27:24,284 - pyiron_log - WARNING - Directory 'gb_seg_lammps/pureGB_fE_seg_Al_175' already exists. Existing files may be overwritten.\n"
     ]
    },
    {
     "name": "stdout",
     "output_type": "stream",
     "text": [
      "gb_seg_lammps/pureGB_fE_seg_Al_175\n"
     ]
    },
    {
     "name": "stderr",
     "output_type": "stream",
     "text": [
      "/root/miniconda3/envs/pyiron_workflow_atomistics/lib/python3.13/site-packages/pyiron_lammps/units.py:236: UserWarning: Warning: Couldn't determine the LAMMPS to pyiron unit conversion type of quantity eng. Returning un-normalized quantity\n",
      "  warnings.warn(\n",
      "2025-08-10 02:27:24,898 - pyiron_log - WARNING - Directory 'gb_seg_lammps/pureGB_fE_seg_Al_174' already exists. Existing files may be overwritten.\n"
     ]
    },
    {
     "name": "stdout",
     "output_type": "stream",
     "text": [
      "gb_seg_lammps/pureGB_fE_seg_Al_174\n"
     ]
    },
    {
     "name": "stderr",
     "output_type": "stream",
     "text": [
      "/root/miniconda3/envs/pyiron_workflow_atomistics/lib/python3.13/site-packages/pyiron_lammps/units.py:236: UserWarning: Warning: Couldn't determine the LAMMPS to pyiron unit conversion type of quantity eng. Returning un-normalized quantity\n",
      "  warnings.warn(\n",
      "2025-08-10 02:27:25,460 - pyiron_log - WARNING - Directory 'gb_seg_lammps/pureGB_fE_seg_Al_173' already exists. Existing files may be overwritten.\n"
     ]
    },
    {
     "name": "stdout",
     "output_type": "stream",
     "text": [
      "gb_seg_lammps/pureGB_fE_seg_Al_173\n"
     ]
    },
    {
     "name": "stderr",
     "output_type": "stream",
     "text": [
      "/root/miniconda3/envs/pyiron_workflow_atomistics/lib/python3.13/site-packages/pyiron_lammps/units.py:236: UserWarning: Warning: Couldn't determine the LAMMPS to pyiron unit conversion type of quantity eng. Returning un-normalized quantity\n",
      "  warnings.warn(\n",
      "2025-08-10 02:27:26,102 - pyiron_log - WARNING - Directory 'gb_seg_lammps/pureGB_fE_seg_Al_172' already exists. Existing files may be overwritten.\n"
     ]
    },
    {
     "name": "stdout",
     "output_type": "stream",
     "text": [
      "gb_seg_lammps/pureGB_fE_seg_Al_172\n"
     ]
    },
    {
     "name": "stderr",
     "output_type": "stream",
     "text": [
      "/root/miniconda3/envs/pyiron_workflow_atomistics/lib/python3.13/site-packages/pyiron_lammps/units.py:236: UserWarning: Warning: Couldn't determine the LAMMPS to pyiron unit conversion type of quantity eng. Returning un-normalized quantity\n",
      "  warnings.warn(\n",
      "2025-08-10 02:27:26,690 - pyiron_log - WARNING - Directory 'gb_seg_lammps/pureGB_fE_seg_Al_171' already exists. Existing files may be overwritten.\n"
     ]
    },
    {
     "name": "stdout",
     "output_type": "stream",
     "text": [
      "gb_seg_lammps/pureGB_fE_seg_Al_171\n"
     ]
    },
    {
     "name": "stderr",
     "output_type": "stream",
     "text": [
      "/root/miniconda3/envs/pyiron_workflow_atomistics/lib/python3.13/site-packages/pyiron_lammps/units.py:236: UserWarning: Warning: Couldn't determine the LAMMPS to pyiron unit conversion type of quantity eng. Returning un-normalized quantity\n",
      "  warnings.warn(\n",
      "2025-08-10 02:27:27,316 - pyiron_log - WARNING - Directory 'gb_seg_lammps/pureGB_fE_seg_Al_170' already exists. Existing files may be overwritten.\n"
     ]
    },
    {
     "name": "stdout",
     "output_type": "stream",
     "text": [
      "gb_seg_lammps/pureGB_fE_seg_Al_170\n"
     ]
    },
    {
     "name": "stderr",
     "output_type": "stream",
     "text": [
      "/root/miniconda3/envs/pyiron_workflow_atomistics/lib/python3.13/site-packages/pyiron_lammps/units.py:236: UserWarning: Warning: Couldn't determine the LAMMPS to pyiron unit conversion type of quantity eng. Returning un-normalized quantity\n",
      "  warnings.warn(\n",
      "2025-08-10 02:27:27,958 - pyiron_log - WARNING - Directory 'gb_seg_lammps/pureGB_fE_seg_Al_169' already exists. Existing files may be overwritten.\n"
     ]
    },
    {
     "name": "stdout",
     "output_type": "stream",
     "text": [
      "gb_seg_lammps/pureGB_fE_seg_Al_169\n"
     ]
    },
    {
     "name": "stderr",
     "output_type": "stream",
     "text": [
      "/root/miniconda3/envs/pyiron_workflow_atomistics/lib/python3.13/site-packages/pyiron_lammps/units.py:236: UserWarning: Warning: Couldn't determine the LAMMPS to pyiron unit conversion type of quantity eng. Returning un-normalized quantity\n",
      "  warnings.warn(\n",
      "2025-08-10 02:27:28,562 - pyiron_log - WARNING - Directory 'gb_seg_lammps/pureGB_fE_seg_Al_168' already exists. Existing files may be overwritten.\n"
     ]
    },
    {
     "name": "stdout",
     "output_type": "stream",
     "text": [
      "gb_seg_lammps/pureGB_fE_seg_Al_168\n"
     ]
    },
    {
     "name": "stderr",
     "output_type": "stream",
     "text": [
      "/root/miniconda3/envs/pyiron_workflow_atomistics/lib/python3.13/site-packages/pyiron_lammps/units.py:236: UserWarning: Warning: Couldn't determine the LAMMPS to pyiron unit conversion type of quantity eng. Returning un-normalized quantity\n",
      "  warnings.warn(\n",
      "2025-08-10 02:27:29,189 - pyiron_log - WARNING - Directory 'gb_seg_lammps/pureGB_fE_seg_Al_167' already exists. Existing files may be overwritten.\n"
     ]
    },
    {
     "name": "stdout",
     "output_type": "stream",
     "text": [
      "gb_seg_lammps/pureGB_fE_seg_Al_167\n"
     ]
    },
    {
     "name": "stderr",
     "output_type": "stream",
     "text": [
      "/root/miniconda3/envs/pyiron_workflow_atomistics/lib/python3.13/site-packages/pyiron_lammps/units.py:236: UserWarning: Warning: Couldn't determine the LAMMPS to pyiron unit conversion type of quantity eng. Returning un-normalized quantity\n",
      "  warnings.warn(\n",
      "2025-08-10 02:27:29,876 - pyiron_log - WARNING - Directory 'gb_seg_lammps/pureGB_fE_seg_Al_166' already exists. Existing files may be overwritten.\n"
     ]
    },
    {
     "name": "stdout",
     "output_type": "stream",
     "text": [
      "gb_seg_lammps/pureGB_fE_seg_Al_166\n"
     ]
    },
    {
     "name": "stderr",
     "output_type": "stream",
     "text": [
      "/root/miniconda3/envs/pyiron_workflow_atomistics/lib/python3.13/site-packages/pyiron_lammps/units.py:236: UserWarning: Warning: Couldn't determine the LAMMPS to pyiron unit conversion type of quantity eng. Returning un-normalized quantity\n",
      "  warnings.warn(\n",
      "2025-08-10 02:27:30,519 - pyiron_log - WARNING - Directory 'gb_seg_lammps/pureGB_fE_seg_Al_165' already exists. Existing files may be overwritten.\n"
     ]
    },
    {
     "name": "stdout",
     "output_type": "stream",
     "text": [
      "gb_seg_lammps/pureGB_fE_seg_Al_165\n"
     ]
    },
    {
     "name": "stderr",
     "output_type": "stream",
     "text": [
      "/root/miniconda3/envs/pyiron_workflow_atomistics/lib/python3.13/site-packages/pyiron_lammps/units.py:236: UserWarning: Warning: Couldn't determine the LAMMPS to pyiron unit conversion type of quantity eng. Returning un-normalized quantity\n",
      "  warnings.warn(\n",
      "2025-08-10 02:27:31,103 - pyiron_log - WARNING - Directory 'gb_seg_lammps/pureGB_fE_seg_Al_164' already exists. Existing files may be overwritten.\n"
     ]
    },
    {
     "name": "stdout",
     "output_type": "stream",
     "text": [
      "gb_seg_lammps/pureGB_fE_seg_Al_164\n"
     ]
    },
    {
     "name": "stderr",
     "output_type": "stream",
     "text": [
      "/root/miniconda3/envs/pyiron_workflow_atomistics/lib/python3.13/site-packages/pyiron_lammps/units.py:236: UserWarning: Warning: Couldn't determine the LAMMPS to pyiron unit conversion type of quantity eng. Returning un-normalized quantity\n",
      "  warnings.warn(\n",
      "2025-08-10 02:27:31,740 - pyiron_log - WARNING - Directory 'gb_seg_lammps/pureGB_fE_seg_Al_163' already exists. Existing files may be overwritten.\n"
     ]
    },
    {
     "name": "stdout",
     "output_type": "stream",
     "text": [
      "gb_seg_lammps/pureGB_fE_seg_Al_163\n"
     ]
    },
    {
     "name": "stderr",
     "output_type": "stream",
     "text": [
      "/root/miniconda3/envs/pyiron_workflow_atomistics/lib/python3.13/site-packages/pyiron_lammps/units.py:236: UserWarning: Warning: Couldn't determine the LAMMPS to pyiron unit conversion type of quantity eng. Returning un-normalized quantity\n",
      "  warnings.warn(\n",
      "2025-08-10 02:27:32,378 - pyiron_log - WARNING - Directory 'gb_seg_lammps/pureGB_fE_seg_Al_162' already exists. Existing files may be overwritten.\n"
     ]
    },
    {
     "name": "stdout",
     "output_type": "stream",
     "text": [
      "gb_seg_lammps/pureGB_fE_seg_Al_162\n"
     ]
    },
    {
     "name": "stderr",
     "output_type": "stream",
     "text": [
      "/root/miniconda3/envs/pyiron_workflow_atomistics/lib/python3.13/site-packages/pyiron_lammps/units.py:236: UserWarning: Warning: Couldn't determine the LAMMPS to pyiron unit conversion type of quantity eng. Returning un-normalized quantity\n",
      "  warnings.warn(\n",
      "2025-08-10 02:27:32,971 - pyiron_log - WARNING - Directory 'gb_seg_lammps/pureGB_fE_seg_Al_128' already exists. Existing files may be overwritten.\n"
     ]
    },
    {
     "name": "stdout",
     "output_type": "stream",
     "text": [
      "gb_seg_lammps/pureGB_fE_seg_Al_128\n"
     ]
    },
    {
     "name": "stderr",
     "output_type": "stream",
     "text": [
      "/root/miniconda3/envs/pyiron_workflow_atomistics/lib/python3.13/site-packages/pyiron_lammps/units.py:236: UserWarning: Warning: Couldn't determine the LAMMPS to pyiron unit conversion type of quantity eng. Returning un-normalized quantity\n",
      "  warnings.warn(\n",
      "2025-08-10 02:27:33,577 - pyiron_log - WARNING - Directory 'gb_seg_lammps/pureGB_fE_seg_Al_127' already exists. Existing files may be overwritten.\n"
     ]
    },
    {
     "name": "stdout",
     "output_type": "stream",
     "text": [
      "gb_seg_lammps/pureGB_fE_seg_Al_127\n"
     ]
    },
    {
     "name": "stderr",
     "output_type": "stream",
     "text": [
      "/root/miniconda3/envs/pyiron_workflow_atomistics/lib/python3.13/site-packages/pyiron_lammps/units.py:236: UserWarning: Warning: Couldn't determine the LAMMPS to pyiron unit conversion type of quantity eng. Returning un-normalized quantity\n",
      "  warnings.warn(\n",
      "2025-08-10 02:27:34,185 - pyiron_log - WARNING - Directory 'gb_seg_lammps/pureGB_fE_seg_Al_126' already exists. Existing files may be overwritten.\n"
     ]
    },
    {
     "name": "stdout",
     "output_type": "stream",
     "text": [
      "gb_seg_lammps/pureGB_fE_seg_Al_126\n"
     ]
    },
    {
     "name": "stderr",
     "output_type": "stream",
     "text": [
      "/root/miniconda3/envs/pyiron_workflow_atomistics/lib/python3.13/site-packages/pyiron_lammps/units.py:236: UserWarning: Warning: Couldn't determine the LAMMPS to pyiron unit conversion type of quantity eng. Returning un-normalized quantity\n",
      "  warnings.warn(\n",
      "2025-08-10 02:27:34,756 - pyiron_log - WARNING - Directory 'gb_seg_lammps/pureGB_fE_seg_Al_125' already exists. Existing files may be overwritten.\n"
     ]
    },
    {
     "name": "stdout",
     "output_type": "stream",
     "text": [
      "gb_seg_lammps/pureGB_fE_seg_Al_125\n"
     ]
    },
    {
     "name": "stderr",
     "output_type": "stream",
     "text": [
      "/root/miniconda3/envs/pyiron_workflow_atomistics/lib/python3.13/site-packages/pyiron_lammps/units.py:236: UserWarning: Warning: Couldn't determine the LAMMPS to pyiron unit conversion type of quantity eng. Returning un-normalized quantity\n",
      "  warnings.warn(\n",
      "2025-08-10 02:27:35,484 - pyiron_log - WARNING - Directory 'gb_seg_lammps/pureGB_fE_seg_Al_124' already exists. Existing files may be overwritten.\n"
     ]
    },
    {
     "name": "stdout",
     "output_type": "stream",
     "text": [
      "gb_seg_lammps/pureGB_fE_seg_Al_124\n"
     ]
    },
    {
     "name": "stderr",
     "output_type": "stream",
     "text": [
      "/root/miniconda3/envs/pyiron_workflow_atomistics/lib/python3.13/site-packages/pyiron_lammps/units.py:236: UserWarning: Warning: Couldn't determine the LAMMPS to pyiron unit conversion type of quantity eng. Returning un-normalized quantity\n",
      "  warnings.warn(\n",
      "2025-08-10 02:27:36,150 - pyiron_log - WARNING - Directory 'gb_seg_lammps/pureGB_fE_seg_Al_123' already exists. Existing files may be overwritten.\n"
     ]
    },
    {
     "name": "stdout",
     "output_type": "stream",
     "text": [
      "gb_seg_lammps/pureGB_fE_seg_Al_123\n"
     ]
    },
    {
     "name": "stderr",
     "output_type": "stream",
     "text": [
      "/root/miniconda3/envs/pyiron_workflow_atomistics/lib/python3.13/site-packages/pyiron_lammps/units.py:236: UserWarning: Warning: Couldn't determine the LAMMPS to pyiron unit conversion type of quantity eng. Returning un-normalized quantity\n",
      "  warnings.warn(\n",
      "2025-08-10 02:27:36,863 - pyiron_log - WARNING - Directory 'gb_seg_lammps/pureGB_fE_seg_Al_122' already exists. Existing files may be overwritten.\n"
     ]
    },
    {
     "name": "stdout",
     "output_type": "stream",
     "text": [
      "gb_seg_lammps/pureGB_fE_seg_Al_122\n"
     ]
    },
    {
     "name": "stderr",
     "output_type": "stream",
     "text": [
      "/root/miniconda3/envs/pyiron_workflow_atomistics/lib/python3.13/site-packages/pyiron_lammps/units.py:236: UserWarning: Warning: Couldn't determine the LAMMPS to pyiron unit conversion type of quantity eng. Returning un-normalized quantity\n",
      "  warnings.warn(\n",
      "2025-08-10 02:27:37,516 - pyiron_log - WARNING - Directory 'gb_seg_lammps/pureGB_fE_seg_Al_121' already exists. Existing files may be overwritten.\n"
     ]
    },
    {
     "name": "stdout",
     "output_type": "stream",
     "text": [
      "gb_seg_lammps/pureGB_fE_seg_Al_121\n"
     ]
    },
    {
     "name": "stderr",
     "output_type": "stream",
     "text": [
      "/root/miniconda3/envs/pyiron_workflow_atomistics/lib/python3.13/site-packages/pyiron_lammps/units.py:236: UserWarning: Warning: Couldn't determine the LAMMPS to pyiron unit conversion type of quantity eng. Returning un-normalized quantity\n",
      "  warnings.warn(\n",
      "2025-08-10 02:27:38,123 - pyiron_log - WARNING - Directory 'gb_seg_lammps/pureGB_fE_seg_Al_120' already exists. Existing files may be overwritten.\n"
     ]
    },
    {
     "name": "stdout",
     "output_type": "stream",
     "text": [
      "gb_seg_lammps/pureGB_fE_seg_Al_120\n"
     ]
    },
    {
     "name": "stderr",
     "output_type": "stream",
     "text": [
      "/root/miniconda3/envs/pyiron_workflow_atomistics/lib/python3.13/site-packages/pyiron_lammps/units.py:236: UserWarning: Warning: Couldn't determine the LAMMPS to pyiron unit conversion type of quantity eng. Returning un-normalized quantity\n",
      "  warnings.warn(\n",
      "2025-08-10 02:27:38,758 - pyiron_log - WARNING - Directory 'gb_seg_lammps/pureGB_fE_seg_Al_119' already exists. Existing files may be overwritten.\n"
     ]
    },
    {
     "name": "stdout",
     "output_type": "stream",
     "text": [
      "gb_seg_lammps/pureGB_fE_seg_Al_119\n"
     ]
    },
    {
     "name": "stderr",
     "output_type": "stream",
     "text": [
      "/root/miniconda3/envs/pyiron_workflow_atomistics/lib/python3.13/site-packages/pyiron_lammps/units.py:236: UserWarning: Warning: Couldn't determine the LAMMPS to pyiron unit conversion type of quantity eng. Returning un-normalized quantity\n",
      "  warnings.warn(\n",
      "2025-08-10 02:27:39,393 - pyiron_log - WARNING - Directory 'gb_seg_lammps/pureGB_fE_seg_Al_118' already exists. Existing files may be overwritten.\n"
     ]
    },
    {
     "name": "stdout",
     "output_type": "stream",
     "text": [
      "gb_seg_lammps/pureGB_fE_seg_Al_118\n"
     ]
    },
    {
     "name": "stderr",
     "output_type": "stream",
     "text": [
      "/root/miniconda3/envs/pyiron_workflow_atomistics/lib/python3.13/site-packages/pyiron_lammps/units.py:236: UserWarning: Warning: Couldn't determine the LAMMPS to pyiron unit conversion type of quantity eng. Returning un-normalized quantity\n",
      "  warnings.warn(\n",
      "2025-08-10 02:27:40,049 - pyiron_log - WARNING - Directory 'gb_seg_lammps/pureGB_fE_seg_Al_117' already exists. Existing files may be overwritten.\n"
     ]
    },
    {
     "name": "stdout",
     "output_type": "stream",
     "text": [
      "gb_seg_lammps/pureGB_fE_seg_Al_117\n"
     ]
    },
    {
     "name": "stderr",
     "output_type": "stream",
     "text": [
      "/root/miniconda3/envs/pyiron_workflow_atomistics/lib/python3.13/site-packages/pyiron_lammps/units.py:236: UserWarning: Warning: Couldn't determine the LAMMPS to pyiron unit conversion type of quantity eng. Returning un-normalized quantity\n",
      "  warnings.warn(\n",
      "2025-08-10 02:27:40,665 - pyiron_log - WARNING - Directory 'gb_seg_lammps/pureGB_fE_seg_Al_116' already exists. Existing files may be overwritten.\n"
     ]
    },
    {
     "name": "stdout",
     "output_type": "stream",
     "text": [
      "gb_seg_lammps/pureGB_fE_seg_Al_116\n"
     ]
    },
    {
     "name": "stderr",
     "output_type": "stream",
     "text": [
      "/root/miniconda3/envs/pyiron_workflow_atomistics/lib/python3.13/site-packages/pyiron_lammps/units.py:236: UserWarning: Warning: Couldn't determine the LAMMPS to pyiron unit conversion type of quantity eng. Returning un-normalized quantity\n",
      "  warnings.warn(\n",
      "2025-08-10 02:27:41,301 - pyiron_log - WARNING - Directory 'gb_seg_lammps/pureGB_fE_seg_Al_115' already exists. Existing files may be overwritten.\n"
     ]
    },
    {
     "name": "stdout",
     "output_type": "stream",
     "text": [
      "gb_seg_lammps/pureGB_fE_seg_Al_115\n"
     ]
    },
    {
     "name": "stderr",
     "output_type": "stream",
     "text": [
      "/root/miniconda3/envs/pyiron_workflow_atomistics/lib/python3.13/site-packages/pyiron_lammps/units.py:236: UserWarning: Warning: Couldn't determine the LAMMPS to pyiron unit conversion type of quantity eng. Returning un-normalized quantity\n",
      "  warnings.warn(\n",
      "2025-08-10 02:27:41,940 - pyiron_log - WARNING - Directory 'gb_seg_lammps/pureGB_fE_seg_Al_114' already exists. Existing files may be overwritten.\n"
     ]
    },
    {
     "name": "stdout",
     "output_type": "stream",
     "text": [
      "gb_seg_lammps/pureGB_fE_seg_Al_114\n"
     ]
    },
    {
     "name": "stderr",
     "output_type": "stream",
     "text": [
      "/root/miniconda3/envs/pyiron_workflow_atomistics/lib/python3.13/site-packages/pyiron_lammps/units.py:236: UserWarning: Warning: Couldn't determine the LAMMPS to pyiron unit conversion type of quantity eng. Returning un-normalized quantity\n",
      "  warnings.warn(\n",
      "2025-08-10 02:27:42,555 - pyiron_log - WARNING - Directory 'gb_seg_lammps/pureGB_fE_seg_Al_80' already exists. Existing files may be overwritten.\n"
     ]
    },
    {
     "name": "stdout",
     "output_type": "stream",
     "text": [
      "gb_seg_lammps/pureGB_fE_seg_Al_80\n"
     ]
    },
    {
     "name": "stderr",
     "output_type": "stream",
     "text": [
      "/root/miniconda3/envs/pyiron_workflow_atomistics/lib/python3.13/site-packages/pyiron_lammps/units.py:236: UserWarning: Warning: Couldn't determine the LAMMPS to pyiron unit conversion type of quantity eng. Returning un-normalized quantity\n",
      "  warnings.warn(\n",
      "2025-08-10 02:27:43,108 - pyiron_log - WARNING - Directory 'gb_seg_lammps/pureGB_fE_seg_Al_79' already exists. Existing files may be overwritten.\n"
     ]
    },
    {
     "name": "stdout",
     "output_type": "stream",
     "text": [
      "gb_seg_lammps/pureGB_fE_seg_Al_79\n"
     ]
    },
    {
     "name": "stderr",
     "output_type": "stream",
     "text": [
      "/root/miniconda3/envs/pyiron_workflow_atomistics/lib/python3.13/site-packages/pyiron_lammps/units.py:236: UserWarning: Warning: Couldn't determine the LAMMPS to pyiron unit conversion type of quantity eng. Returning un-normalized quantity\n",
      "  warnings.warn(\n",
      "2025-08-10 02:27:43,663 - pyiron_log - WARNING - Directory 'gb_seg_lammps/pureGB_fE_seg_Al_78' already exists. Existing files may be overwritten.\n"
     ]
    },
    {
     "name": "stdout",
     "output_type": "stream",
     "text": [
      "gb_seg_lammps/pureGB_fE_seg_Al_78\n"
     ]
    },
    {
     "name": "stderr",
     "output_type": "stream",
     "text": [
      "/root/miniconda3/envs/pyiron_workflow_atomistics/lib/python3.13/site-packages/pyiron_lammps/units.py:236: UserWarning: Warning: Couldn't determine the LAMMPS to pyiron unit conversion type of quantity eng. Returning un-normalized quantity\n",
      "  warnings.warn(\n",
      "2025-08-10 02:27:44,212 - pyiron_log - WARNING - Directory 'gb_seg_lammps/pureGB_fE_seg_Al_77' already exists. Existing files may be overwritten.\n"
     ]
    },
    {
     "name": "stdout",
     "output_type": "stream",
     "text": [
      "gb_seg_lammps/pureGB_fE_seg_Al_77\n"
     ]
    },
    {
     "name": "stderr",
     "output_type": "stream",
     "text": [
      "/root/miniconda3/envs/pyiron_workflow_atomistics/lib/python3.13/site-packages/pyiron_lammps/units.py:236: UserWarning: Warning: Couldn't determine the LAMMPS to pyiron unit conversion type of quantity eng. Returning un-normalized quantity\n",
      "  warnings.warn(\n",
      "2025-08-10 02:27:44,854 - pyiron_log - WARNING - Directory 'gb_seg_lammps/pureGB_fE_seg_Al_76' already exists. Existing files may be overwritten.\n"
     ]
    },
    {
     "name": "stdout",
     "output_type": "stream",
     "text": [
      "gb_seg_lammps/pureGB_fE_seg_Al_76\n"
     ]
    },
    {
     "name": "stderr",
     "output_type": "stream",
     "text": [
      "/root/miniconda3/envs/pyiron_workflow_atomistics/lib/python3.13/site-packages/pyiron_lammps/units.py:236: UserWarning: Warning: Couldn't determine the LAMMPS to pyiron unit conversion type of quantity eng. Returning un-normalized quantity\n",
      "  warnings.warn(\n",
      "2025-08-10 02:27:45,434 - pyiron_log - WARNING - Directory 'gb_seg_lammps/pureGB_fE_seg_Al_75' already exists. Existing files may be overwritten.\n"
     ]
    },
    {
     "name": "stdout",
     "output_type": "stream",
     "text": [
      "gb_seg_lammps/pureGB_fE_seg_Al_75\n"
     ]
    },
    {
     "name": "stderr",
     "output_type": "stream",
     "text": [
      "/root/miniconda3/envs/pyiron_workflow_atomistics/lib/python3.13/site-packages/pyiron_lammps/units.py:236: UserWarning: Warning: Couldn't determine the LAMMPS to pyiron unit conversion type of quantity eng. Returning un-normalized quantity\n",
      "  warnings.warn(\n",
      "2025-08-10 02:27:46,069 - pyiron_log - WARNING - Directory 'gb_seg_lammps/pureGB_fE_seg_Al_74' already exists. Existing files may be overwritten.\n"
     ]
    },
    {
     "name": "stdout",
     "output_type": "stream",
     "text": [
      "gb_seg_lammps/pureGB_fE_seg_Al_74\n"
     ]
    },
    {
     "name": "stderr",
     "output_type": "stream",
     "text": [
      "/root/miniconda3/envs/pyiron_workflow_atomistics/lib/python3.13/site-packages/pyiron_lammps/units.py:236: UserWarning: Warning: Couldn't determine the LAMMPS to pyiron unit conversion type of quantity eng. Returning un-normalized quantity\n",
      "  warnings.warn(\n",
      "2025-08-10 02:27:46,716 - pyiron_log - WARNING - Directory 'gb_seg_lammps/pureGB_fE_seg_Al_73' already exists. Existing files may be overwritten.\n"
     ]
    },
    {
     "name": "stdout",
     "output_type": "stream",
     "text": [
      "gb_seg_lammps/pureGB_fE_seg_Al_73\n"
     ]
    },
    {
     "name": "stderr",
     "output_type": "stream",
     "text": [
      "/root/miniconda3/envs/pyiron_workflow_atomistics/lib/python3.13/site-packages/pyiron_lammps/units.py:236: UserWarning: Warning: Couldn't determine the LAMMPS to pyiron unit conversion type of quantity eng. Returning un-normalized quantity\n",
      "  warnings.warn(\n",
      "2025-08-10 02:27:47,310 - pyiron_log - WARNING - Directory 'gb_seg_lammps/pureGB_fE_seg_Al_72' already exists. Existing files may be overwritten.\n"
     ]
    },
    {
     "name": "stdout",
     "output_type": "stream",
     "text": [
      "gb_seg_lammps/pureGB_fE_seg_Al_72\n"
     ]
    },
    {
     "name": "stderr",
     "output_type": "stream",
     "text": [
      "/root/miniconda3/envs/pyiron_workflow_atomistics/lib/python3.13/site-packages/pyiron_lammps/units.py:236: UserWarning: Warning: Couldn't determine the LAMMPS to pyiron unit conversion type of quantity eng. Returning un-normalized quantity\n",
      "  warnings.warn(\n",
      "2025-08-10 02:27:47,931 - pyiron_log - WARNING - Directory 'gb_seg_lammps/pureGB_fE_seg_Al_71' already exists. Existing files may be overwritten.\n"
     ]
    },
    {
     "name": "stdout",
     "output_type": "stream",
     "text": [
      "gb_seg_lammps/pureGB_fE_seg_Al_71\n"
     ]
    },
    {
     "name": "stderr",
     "output_type": "stream",
     "text": [
      "/root/miniconda3/envs/pyiron_workflow_atomistics/lib/python3.13/site-packages/pyiron_lammps/units.py:236: UserWarning: Warning: Couldn't determine the LAMMPS to pyiron unit conversion type of quantity eng. Returning un-normalized quantity\n",
      "  warnings.warn(\n",
      "2025-08-10 02:27:48,557 - pyiron_log - WARNING - Directory 'gb_seg_lammps/pureGB_fE_seg_Al_70' already exists. Existing files may be overwritten.\n"
     ]
    },
    {
     "name": "stdout",
     "output_type": "stream",
     "text": [
      "gb_seg_lammps/pureGB_fE_seg_Al_70\n"
     ]
    },
    {
     "name": "stderr",
     "output_type": "stream",
     "text": [
      "/root/miniconda3/envs/pyiron_workflow_atomistics/lib/python3.13/site-packages/pyiron_lammps/units.py:236: UserWarning: Warning: Couldn't determine the LAMMPS to pyiron unit conversion type of quantity eng. Returning un-normalized quantity\n",
      "  warnings.warn(\n",
      "2025-08-10 02:27:49,210 - pyiron_log - WARNING - Directory 'gb_seg_lammps/pureGB_fE_seg_Al_69' already exists. Existing files may be overwritten.\n"
     ]
    },
    {
     "name": "stdout",
     "output_type": "stream",
     "text": [
      "gb_seg_lammps/pureGB_fE_seg_Al_69\n"
     ]
    },
    {
     "name": "stderr",
     "output_type": "stream",
     "text": [
      "/root/miniconda3/envs/pyiron_workflow_atomistics/lib/python3.13/site-packages/pyiron_lammps/units.py:236: UserWarning: Warning: Couldn't determine the LAMMPS to pyiron unit conversion type of quantity eng. Returning un-normalized quantity\n",
      "  warnings.warn(\n",
      "2025-08-10 02:27:49,834 - pyiron_log - WARNING - Directory 'gb_seg_lammps/pureGB_fE_seg_Al_68' already exists. Existing files may be overwritten.\n"
     ]
    },
    {
     "name": "stdout",
     "output_type": "stream",
     "text": [
      "gb_seg_lammps/pureGB_fE_seg_Al_68\n"
     ]
    },
    {
     "name": "stderr",
     "output_type": "stream",
     "text": [
      "/root/miniconda3/envs/pyiron_workflow_atomistics/lib/python3.13/site-packages/pyiron_lammps/units.py:236: UserWarning: Warning: Couldn't determine the LAMMPS to pyiron unit conversion type of quantity eng. Returning un-normalized quantity\n",
      "  warnings.warn(\n",
      "2025-08-10 02:27:50,465 - pyiron_log - WARNING - Directory 'gb_seg_lammps/pureGB_fE_seg_Al_67' already exists. Existing files may be overwritten.\n"
     ]
    },
    {
     "name": "stdout",
     "output_type": "stream",
     "text": [
      "gb_seg_lammps/pureGB_fE_seg_Al_67\n"
     ]
    },
    {
     "name": "stderr",
     "output_type": "stream",
     "text": [
      "/root/miniconda3/envs/pyiron_workflow_atomistics/lib/python3.13/site-packages/pyiron_lammps/units.py:236: UserWarning: Warning: Couldn't determine the LAMMPS to pyiron unit conversion type of quantity eng. Returning un-normalized quantity\n",
      "  warnings.warn(\n",
      "2025-08-10 02:27:51,079 - pyiron_log - WARNING - Directory 'gb_seg_lammps/pureGB_fE_seg_Al_66' already exists. Existing files may be overwritten.\n"
     ]
    },
    {
     "name": "stdout",
     "output_type": "stream",
     "text": [
      "gb_seg_lammps/pureGB_fE_seg_Al_66\n"
     ]
    },
    {
     "name": "stderr",
     "output_type": "stream",
     "text": [
      "/root/miniconda3/envs/pyiron_workflow_atomistics/lib/python3.13/site-packages/pyiron_lammps/units.py:236: UserWarning: Warning: Couldn't determine the LAMMPS to pyiron unit conversion type of quantity eng. Returning un-normalized quantity\n",
      "  warnings.warn(\n",
      "2025-08-10 02:27:51,676 - pyiron_log - WARNING - Directory 'gb_seg_lammps/pureGB_fE_seg_Al_32' already exists. Existing files may be overwritten.\n"
     ]
    },
    {
     "name": "stdout",
     "output_type": "stream",
     "text": [
      "gb_seg_lammps/pureGB_fE_seg_Al_32\n"
     ]
    },
    {
     "name": "stderr",
     "output_type": "stream",
     "text": [
      "/root/miniconda3/envs/pyiron_workflow_atomistics/lib/python3.13/site-packages/pyiron_lammps/units.py:236: UserWarning: Warning: Couldn't determine the LAMMPS to pyiron unit conversion type of quantity eng. Returning un-normalized quantity\n",
      "  warnings.warn(\n",
      "2025-08-10 02:27:52,233 - pyiron_log - WARNING - Directory 'gb_seg_lammps/pureGB_fE_seg_Al_31' already exists. Existing files may be overwritten.\n"
     ]
    },
    {
     "name": "stdout",
     "output_type": "stream",
     "text": [
      "gb_seg_lammps/pureGB_fE_seg_Al_31\n"
     ]
    },
    {
     "name": "stderr",
     "output_type": "stream",
     "text": [
      "/root/miniconda3/envs/pyiron_workflow_atomistics/lib/python3.13/site-packages/pyiron_lammps/units.py:236: UserWarning: Warning: Couldn't determine the LAMMPS to pyiron unit conversion type of quantity eng. Returning un-normalized quantity\n",
      "  warnings.warn(\n",
      "2025-08-10 02:27:52,801 - pyiron_log - WARNING - Directory 'gb_seg_lammps/pureGB_fE_seg_Al_30' already exists. Existing files may be overwritten.\n"
     ]
    },
    {
     "name": "stdout",
     "output_type": "stream",
     "text": [
      "gb_seg_lammps/pureGB_fE_seg_Al_30\n"
     ]
    },
    {
     "name": "stderr",
     "output_type": "stream",
     "text": [
      "/root/miniconda3/envs/pyiron_workflow_atomistics/lib/python3.13/site-packages/pyiron_lammps/units.py:236: UserWarning: Warning: Couldn't determine the LAMMPS to pyiron unit conversion type of quantity eng. Returning un-normalized quantity\n",
      "  warnings.warn(\n",
      "2025-08-10 02:27:53,342 - pyiron_log - WARNING - Directory 'gb_seg_lammps/pureGB_fE_seg_Al_29' already exists. Existing files may be overwritten.\n"
     ]
    },
    {
     "name": "stdout",
     "output_type": "stream",
     "text": [
      "gb_seg_lammps/pureGB_fE_seg_Al_29\n"
     ]
    },
    {
     "name": "stderr",
     "output_type": "stream",
     "text": [
      "/root/miniconda3/envs/pyiron_workflow_atomistics/lib/python3.13/site-packages/pyiron_lammps/units.py:236: UserWarning: Warning: Couldn't determine the LAMMPS to pyiron unit conversion type of quantity eng. Returning un-normalized quantity\n",
      "  warnings.warn(\n",
      "2025-08-10 02:27:53,988 - pyiron_log - WARNING - Directory 'gb_seg_lammps/pureGB_fE_seg_Al_28' already exists. Existing files may be overwritten.\n"
     ]
    },
    {
     "name": "stdout",
     "output_type": "stream",
     "text": [
      "gb_seg_lammps/pureGB_fE_seg_Al_28\n"
     ]
    },
    {
     "name": "stderr",
     "output_type": "stream",
     "text": [
      "/root/miniconda3/envs/pyiron_workflow_atomistics/lib/python3.13/site-packages/pyiron_lammps/units.py:236: UserWarning: Warning: Couldn't determine the LAMMPS to pyiron unit conversion type of quantity eng. Returning un-normalized quantity\n",
      "  warnings.warn(\n",
      "2025-08-10 02:27:54,593 - pyiron_log - WARNING - Directory 'gb_seg_lammps/pureGB_fE_seg_Al_27' already exists. Existing files may be overwritten.\n"
     ]
    },
    {
     "name": "stdout",
     "output_type": "stream",
     "text": [
      "gb_seg_lammps/pureGB_fE_seg_Al_27\n"
     ]
    },
    {
     "name": "stderr",
     "output_type": "stream",
     "text": [
      "/root/miniconda3/envs/pyiron_workflow_atomistics/lib/python3.13/site-packages/pyiron_lammps/units.py:236: UserWarning: Warning: Couldn't determine the LAMMPS to pyiron unit conversion type of quantity eng. Returning un-normalized quantity\n",
      "  warnings.warn(\n",
      "2025-08-10 02:27:55,216 - pyiron_log - WARNING - Directory 'gb_seg_lammps/pureGB_fE_seg_Al_26' already exists. Existing files may be overwritten.\n"
     ]
    },
    {
     "name": "stdout",
     "output_type": "stream",
     "text": [
      "gb_seg_lammps/pureGB_fE_seg_Al_26\n"
     ]
    },
    {
     "name": "stderr",
     "output_type": "stream",
     "text": [
      "/root/miniconda3/envs/pyiron_workflow_atomistics/lib/python3.13/site-packages/pyiron_lammps/units.py:236: UserWarning: Warning: Couldn't determine the LAMMPS to pyiron unit conversion type of quantity eng. Returning un-normalized quantity\n",
      "  warnings.warn(\n",
      "2025-08-10 02:27:55,842 - pyiron_log - WARNING - Directory 'gb_seg_lammps/pureGB_fE_seg_Al_25' already exists. Existing files may be overwritten.\n"
     ]
    },
    {
     "name": "stdout",
     "output_type": "stream",
     "text": [
      "gb_seg_lammps/pureGB_fE_seg_Al_25\n"
     ]
    },
    {
     "name": "stderr",
     "output_type": "stream",
     "text": [
      "/root/miniconda3/envs/pyiron_workflow_atomistics/lib/python3.13/site-packages/pyiron_lammps/units.py:236: UserWarning: Warning: Couldn't determine the LAMMPS to pyiron unit conversion type of quantity eng. Returning un-normalized quantity\n",
      "  warnings.warn(\n",
      "2025-08-10 02:27:56,421 - pyiron_log - WARNING - Directory 'gb_seg_lammps/pureGB_fE_seg_Al_24' already exists. Existing files may be overwritten.\n"
     ]
    },
    {
     "name": "stdout",
     "output_type": "stream",
     "text": [
      "gb_seg_lammps/pureGB_fE_seg_Al_24\n"
     ]
    },
    {
     "name": "stderr",
     "output_type": "stream",
     "text": [
      "/root/miniconda3/envs/pyiron_workflow_atomistics/lib/python3.13/site-packages/pyiron_lammps/units.py:236: UserWarning: Warning: Couldn't determine the LAMMPS to pyiron unit conversion type of quantity eng. Returning un-normalized quantity\n",
      "  warnings.warn(\n",
      "2025-08-10 02:27:57,154 - pyiron_log - WARNING - Directory 'gb_seg_lammps/pureGB_fE_seg_Al_23' already exists. Existing files may be overwritten.\n"
     ]
    },
    {
     "name": "stdout",
     "output_type": "stream",
     "text": [
      "gb_seg_lammps/pureGB_fE_seg_Al_23\n"
     ]
    },
    {
     "name": "stderr",
     "output_type": "stream",
     "text": [
      "/root/miniconda3/envs/pyiron_workflow_atomistics/lib/python3.13/site-packages/pyiron_lammps/units.py:236: UserWarning: Warning: Couldn't determine the LAMMPS to pyiron unit conversion type of quantity eng. Returning un-normalized quantity\n",
      "  warnings.warn(\n",
      "2025-08-10 02:27:57,808 - pyiron_log - WARNING - Directory 'gb_seg_lammps/pureGB_fE_seg_Al_22' already exists. Existing files may be overwritten.\n"
     ]
    },
    {
     "name": "stdout",
     "output_type": "stream",
     "text": [
      "gb_seg_lammps/pureGB_fE_seg_Al_22\n"
     ]
    },
    {
     "name": "stderr",
     "output_type": "stream",
     "text": [
      "/root/miniconda3/envs/pyiron_workflow_atomistics/lib/python3.13/site-packages/pyiron_lammps/units.py:236: UserWarning: Warning: Couldn't determine the LAMMPS to pyiron unit conversion type of quantity eng. Returning un-normalized quantity\n",
      "  warnings.warn(\n",
      "2025-08-10 02:27:58,432 - pyiron_log - WARNING - Directory 'gb_seg_lammps/pureGB_fE_seg_Al_21' already exists. Existing files may be overwritten.\n"
     ]
    },
    {
     "name": "stdout",
     "output_type": "stream",
     "text": [
      "gb_seg_lammps/pureGB_fE_seg_Al_21\n"
     ]
    },
    {
     "name": "stderr",
     "output_type": "stream",
     "text": [
      "/root/miniconda3/envs/pyiron_workflow_atomistics/lib/python3.13/site-packages/pyiron_lammps/units.py:236: UserWarning: Warning: Couldn't determine the LAMMPS to pyiron unit conversion type of quantity eng. Returning un-normalized quantity\n",
      "  warnings.warn(\n",
      "2025-08-10 02:27:59,061 - pyiron_log - WARNING - Directory 'gb_seg_lammps/pureGB_fE_seg_Al_20' already exists. Existing files may be overwritten.\n"
     ]
    },
    {
     "name": "stdout",
     "output_type": "stream",
     "text": [
      "gb_seg_lammps/pureGB_fE_seg_Al_20\n"
     ]
    },
    {
     "name": "stderr",
     "output_type": "stream",
     "text": [
      "/root/miniconda3/envs/pyiron_workflow_atomistics/lib/python3.13/site-packages/pyiron_lammps/units.py:236: UserWarning: Warning: Couldn't determine the LAMMPS to pyiron unit conversion type of quantity eng. Returning un-normalized quantity\n",
      "  warnings.warn(\n",
      "2025-08-10 02:27:59,716 - pyiron_log - WARNING - Directory 'gb_seg_lammps/pureGB_fE_seg_Al_19' already exists. Existing files may be overwritten.\n"
     ]
    },
    {
     "name": "stdout",
     "output_type": "stream",
     "text": [
      "gb_seg_lammps/pureGB_fE_seg_Al_19\n"
     ]
    },
    {
     "name": "stderr",
     "output_type": "stream",
     "text": [
      "/root/miniconda3/envs/pyiron_workflow_atomistics/lib/python3.13/site-packages/pyiron_lammps/units.py:236: UserWarning: Warning: Couldn't determine the LAMMPS to pyiron unit conversion type of quantity eng. Returning un-normalized quantity\n",
      "  warnings.warn(\n",
      "2025-08-10 02:28:00,362 - pyiron_log - WARNING - Directory 'gb_seg_lammps/pureGB_fE_seg_Al_18' already exists. Existing files may be overwritten.\n"
     ]
    },
    {
     "name": "stdout",
     "output_type": "stream",
     "text": [
      "gb_seg_lammps/pureGB_fE_seg_Al_18\n"
     ]
    },
    {
     "name": "stderr",
     "output_type": "stream",
     "text": [
      "/root/miniconda3/envs/pyiron_workflow_atomistics/lib/python3.13/site-packages/pyiron_lammps/units.py:236: UserWarning: Warning: Couldn't determine the LAMMPS to pyiron unit conversion type of quantity eng. Returning un-normalized quantity\n",
      "  warnings.warn(\n"
     ]
    },
    {
     "data": {
      "text/plain": [
       "{'gb_plane_extractor_plot__fig': <Figure size 1000x600 with 2 Axes>,\n",
       " 'gb_plane_extractor_plot__ax': <Axes: title={'center': 'GB disorder region (proj 0–2)'}, xlabel='Axis 0 (Å)', ylabel='Axis 2 (Å)'>,\n",
       " 'gb_seg_calcs__gb_seg_calcs_df':                                              structure  \\\n",
       " 0    (Atom('Fe', [9.891408239993254, 8.301453315295...   \n",
       " 1    (Atom('Fe', [9.891408239993254, 8.301453315295...   \n",
       " 2    (Atom('Fe', [9.891408239993254, 8.301453315295...   \n",
       " 3    (Atom('Fe', [9.891408239993254, 8.301453315295...   \n",
       " 4    (Atom('Fe', [9.891408239993254, 8.301453315295...   \n",
       " ..                                                 ...   \n",
       " 115  (Atom('Fe', [9.891408239993254, 8.301453315295...   \n",
       " 116  (Atom('Fe', [9.891408239993254, 8.301453315295...   \n",
       " 117  (Atom('Fe', [9.891408239993254, 8.301453315295...   \n",
       " 118  (Atom('Fe', [9.891408239993254, 8.301453315295...   \n",
       " 119  (Atom('Fe', [9.891408239993254, 8.301453315295...   \n",
       " \n",
       "                              _calc_structure_fn_kwargs  \\\n",
       " 0    {'lammps_input': 'units metal\n",
       " dimension 3\n",
       " boun...   \n",
       " 1    {'lammps_input': 'units metal\n",
       " dimension 3\n",
       " boun...   \n",
       " 2    {'lammps_input': 'units metal\n",
       " dimension 3\n",
       " boun...   \n",
       " 3    {'lammps_input': 'units metal\n",
       " dimension 3\n",
       " boun...   \n",
       " 4    {'lammps_input': 'units metal\n",
       " dimension 3\n",
       " boun...   \n",
       " ..                                                 ...   \n",
       " 115  {'lammps_input': 'units metal\n",
       " dimension 3\n",
       " boun...   \n",
       " 116  {'lammps_input': 'units metal\n",
       " dimension 3\n",
       " boun...   \n",
       " 117  {'lammps_input': 'units metal\n",
       " dimension 3\n",
       " boun...   \n",
       " 118  {'lammps_input': 'units metal\n",
       " dimension 3\n",
       " boun...   \n",
       " 119  {'lammps_input': 'units metal\n",
       " dimension 3\n",
       " boun...   \n",
       " \n",
       "                                     _calc_structure_fn  \\\n",
       " 0    <function lammps_calculator_fn at 0x7e36f17005e0>   \n",
       " 1    <function lammps_calculator_fn at 0x7e36f17005e0>   \n",
       " 2    <function lammps_calculator_fn at 0x7e36f17005e0>   \n",
       " 3    <function lammps_calculator_fn at 0x7e36f17005e0>   \n",
       " 4    <function lammps_calculator_fn at 0x7e36f17005e0>   \n",
       " ..                                                 ...   \n",
       " 115  <function lammps_calculator_fn at 0x7e36f17005e0>   \n",
       " 116  <function lammps_calculator_fn at 0x7e36f17005e0>   \n",
       " 117  <function lammps_calculator_fn at 0x7e36f17005e0>   \n",
       " 118  <function lammps_calculator_fn at 0x7e36f17005e0>   \n",
       " 119  <function lammps_calculator_fn at 0x7e36f17005e0>   \n",
       " \n",
       "                                            calc_output  \n",
       " 0    EngineOutput(\\n  convergence=True,\\n  energies...  \n",
       " 1    EngineOutput(\\n  convergence=True,\\n  energies...  \n",
       " 2    EngineOutput(\\n  convergence=True,\\n  energies...  \n",
       " 3    EngineOutput(\\n  convergence=True,\\n  energies...  \n",
       " 4    EngineOutput(\\n  convergence=True,\\n  energies...  \n",
       " ..                                                 ...  \n",
       " 115  EngineOutput(\\n  convergence=True,\\n  energies...  \n",
       " 116  EngineOutput(\\n  convergence=True,\\n  energies...  \n",
       " 117  EngineOutput(\\n  convergence=True,\\n  energies...  \n",
       " 118  EngineOutput(\\n  convergence=True,\\n  energies...  \n",
       " 119  EngineOutput(\\n  convergence=True,\\n  energies...  \n",
       " \n",
       " [120 rows x 4 columns]}"
      ]
     },
     "execution_count": 9,
     "metadata": {},
     "output_type": "execute_result"
    }
   ],
   "source": [
    "from pyiron_workflow_atomistics.gb.segregation import calculate_substitutional_segregation_GB\n",
    "try:\n",
    "  wf2.remove_child(\"gb_seg_calcs\")\n",
    "  wf2.failed = False\n",
    "except:\n",
    "  pass\n",
    "wf2.gb_seg_calcs = calculate_substitutional_segregation_GB(\n",
    "    structure = gb_study[\"final_pure_grain_boundary_structure\"],\n",
    "    defect_sites = wf2.gb_plane_extractor.outputs.gb_plane_analysis_dict[\"extended_sel_indices\"],\n",
    "    element = \"Al\",\n",
    "    structure_basename = \"pureGB_fE_seg\",\n",
    "    parent_dir = \"gb_seg_lammps\",\n",
    "    calculation_engine = gb_opt_engine,\n",
    ")\n",
    "\n",
    "wf2.run()"
   ]
  },
  {
   "cell_type": "code",
   "execution_count": null,
   "id": "4ae7cc86",
   "metadata": {},
   "outputs": [
    {
     "data": {
      "text/html": [
       "<div>\n",
       "<style scoped>\n",
       "    .dataframe tbody tr th:only-of-type {\n",
       "        vertical-align: middle;\n",
       "    }\n",
       "\n",
       "    .dataframe tbody tr th {\n",
       "        vertical-align: top;\n",
       "    }\n",
       "\n",
       "    .dataframe thead th {\n",
       "        text-align: right;\n",
       "    }\n",
       "</style>\n",
       "<table border=\"1\" class=\"dataframe\">\n",
       "  <thead>\n",
       "    <tr style=\"text-align: right;\">\n",
       "      <th></th>\n",
       "      <th>structure</th>\n",
       "      <th>_calc_structure_fn_kwargs</th>\n",
       "      <th>_calc_structure_fn</th>\n",
       "      <th>calc_output</th>\n",
       "    </tr>\n",
       "  </thead>\n",
       "  <tbody>\n",
       "    <tr>\n",
       "      <th>0</th>\n",
       "      <td>(Atom('Fe', [9.891408239993254, 8.301453315295...</td>\n",
       "      <td>{'lammps_input': 'units metal\n",
       "dimension 3\n",
       "boun...</td>\n",
       "      <td>&lt;function lammps_calculator_fn at 0x78d67a148540&gt;</td>\n",
       "      <td>EngineOutput(\\n  convergence=True,\\n  energies...</td>\n",
       "    </tr>\n",
       "    <tr>\n",
       "      <th>1</th>\n",
       "      <td>(Atom('Fe', [9.891408239993254, 8.301453315295...</td>\n",
       "      <td>{'lammps_input': 'units metal\n",
       "dimension 3\n",
       "boun...</td>\n",
       "      <td>&lt;function lammps_calculator_fn at 0x78d67a148540&gt;</td>\n",
       "      <td>EngineOutput(\\n  convergence=True,\\n  energies...</td>\n",
       "    </tr>\n",
       "    <tr>\n",
       "      <th>2</th>\n",
       "      <td>(Atom('Fe', [9.891408239993254, 8.301453315295...</td>\n",
       "      <td>{'lammps_input': 'units metal\n",
       "dimension 3\n",
       "boun...</td>\n",
       "      <td>&lt;function lammps_calculator_fn at 0x78d67a148540&gt;</td>\n",
       "      <td>EngineOutput(\\n  convergence=True,\\n  energies...</td>\n",
       "    </tr>\n",
       "    <tr>\n",
       "      <th>3</th>\n",
       "      <td>(Atom('Fe', [9.891408239993254, 8.301453315295...</td>\n",
       "      <td>{'lammps_input': 'units metal\n",
       "dimension 3\n",
       "boun...</td>\n",
       "      <td>&lt;function lammps_calculator_fn at 0x78d67a148540&gt;</td>\n",
       "      <td>EngineOutput(\\n  convergence=True,\\n  energies...</td>\n",
       "    </tr>\n",
       "    <tr>\n",
       "      <th>4</th>\n",
       "      <td>(Atom('Fe', [9.891408239993254, 8.301453315295...</td>\n",
       "      <td>{'lammps_input': 'units metal\n",
       "dimension 3\n",
       "boun...</td>\n",
       "      <td>&lt;function lammps_calculator_fn at 0x78d67a148540&gt;</td>\n",
       "      <td>EngineOutput(\\n  convergence=True,\\n  energies...</td>\n",
       "    </tr>\n",
       "    <tr>\n",
       "      <th>...</th>\n",
       "      <td>...</td>\n",
       "      <td>...</td>\n",
       "      <td>...</td>\n",
       "      <td>...</td>\n",
       "    </tr>\n",
       "    <tr>\n",
       "      <th>115</th>\n",
       "      <td>(Atom('Fe', [9.891408239993254, 8.301453315295...</td>\n",
       "      <td>{'lammps_input': 'units metal\n",
       "dimension 3\n",
       "boun...</td>\n",
       "      <td>&lt;function lammps_calculator_fn at 0x78d67a148540&gt;</td>\n",
       "      <td>EngineOutput(\\n  convergence=True,\\n  energies...</td>\n",
       "    </tr>\n",
       "    <tr>\n",
       "      <th>116</th>\n",
       "      <td>(Atom('Fe', [9.891408239993254, 8.301453315295...</td>\n",
       "      <td>{'lammps_input': 'units metal\n",
       "dimension 3\n",
       "boun...</td>\n",
       "      <td>&lt;function lammps_calculator_fn at 0x78d67a148540&gt;</td>\n",
       "      <td>EngineOutput(\\n  convergence=True,\\n  energies...</td>\n",
       "    </tr>\n",
       "    <tr>\n",
       "      <th>117</th>\n",
       "      <td>(Atom('Fe', [9.891408239993254, 8.301453315295...</td>\n",
       "      <td>{'lammps_input': 'units metal\n",
       "dimension 3\n",
       "boun...</td>\n",
       "      <td>&lt;function lammps_calculator_fn at 0x78d67a148540&gt;</td>\n",
       "      <td>EngineOutput(\\n  convergence=True,\\n  energies...</td>\n",
       "    </tr>\n",
       "    <tr>\n",
       "      <th>118</th>\n",
       "      <td>(Atom('Fe', [9.891408239993254, 8.301453315295...</td>\n",
       "      <td>{'lammps_input': 'units metal\n",
       "dimension 3\n",
       "boun...</td>\n",
       "      <td>&lt;function lammps_calculator_fn at 0x78d67a148540&gt;</td>\n",
       "      <td>EngineOutput(\\n  convergence=True,\\n  energies...</td>\n",
       "    </tr>\n",
       "    <tr>\n",
       "      <th>119</th>\n",
       "      <td>(Atom('Fe', [9.891408239993254, 8.301453315295...</td>\n",
       "      <td>{'lammps_input': 'units metal\n",
       "dimension 3\n",
       "boun...</td>\n",
       "      <td>&lt;function lammps_calculator_fn at 0x78d67a148540&gt;</td>\n",
       "      <td>EngineOutput(\\n  convergence=True,\\n  energies...</td>\n",
       "    </tr>\n",
       "  </tbody>\n",
       "</table>\n",
       "<p>120 rows × 4 columns</p>\n",
       "</div>"
      ],
      "text/plain": [
       "                                             structure  \\\n",
       "0    (Atom('Fe', [9.891408239993254, 8.301453315295...   \n",
       "1    (Atom('Fe', [9.891408239993254, 8.301453315295...   \n",
       "2    (Atom('Fe', [9.891408239993254, 8.301453315295...   \n",
       "3    (Atom('Fe', [9.891408239993254, 8.301453315295...   \n",
       "4    (Atom('Fe', [9.891408239993254, 8.301453315295...   \n",
       "..                                                 ...   \n",
       "115  (Atom('Fe', [9.891408239993254, 8.301453315295...   \n",
       "116  (Atom('Fe', [9.891408239993254, 8.301453315295...   \n",
       "117  (Atom('Fe', [9.891408239993254, 8.301453315295...   \n",
       "118  (Atom('Fe', [9.891408239993254, 8.301453315295...   \n",
       "119  (Atom('Fe', [9.891408239993254, 8.301453315295...   \n",
       "\n",
       "                             _calc_structure_fn_kwargs  \\\n",
       "0    {'lammps_input': 'units metal\n",
       "dimension 3\n",
       "boun...   \n",
       "1    {'lammps_input': 'units metal\n",
       "dimension 3\n",
       "boun...   \n",
       "2    {'lammps_input': 'units metal\n",
       "dimension 3\n",
       "boun...   \n",
       "3    {'lammps_input': 'units metal\n",
       "dimension 3\n",
       "boun...   \n",
       "4    {'lammps_input': 'units metal\n",
       "dimension 3\n",
       "boun...   \n",
       "..                                                 ...   \n",
       "115  {'lammps_input': 'units metal\n",
       "dimension 3\n",
       "boun...   \n",
       "116  {'lammps_input': 'units metal\n",
       "dimension 3\n",
       "boun...   \n",
       "117  {'lammps_input': 'units metal\n",
       "dimension 3\n",
       "boun...   \n",
       "118  {'lammps_input': 'units metal\n",
       "dimension 3\n",
       "boun...   \n",
       "119  {'lammps_input': 'units metal\n",
       "dimension 3\n",
       "boun...   \n",
       "\n",
       "                                    _calc_structure_fn  \\\n",
       "0    <function lammps_calculator_fn at 0x78d67a148540>   \n",
       "1    <function lammps_calculator_fn at 0x78d67a148540>   \n",
       "2    <function lammps_calculator_fn at 0x78d67a148540>   \n",
       "3    <function lammps_calculator_fn at 0x78d67a148540>   \n",
       "4    <function lammps_calculator_fn at 0x78d67a148540>   \n",
       "..                                                 ...   \n",
       "115  <function lammps_calculator_fn at 0x78d67a148540>   \n",
       "116  <function lammps_calculator_fn at 0x78d67a148540>   \n",
       "117  <function lammps_calculator_fn at 0x78d67a148540>   \n",
       "118  <function lammps_calculator_fn at 0x78d67a148540>   \n",
       "119  <function lammps_calculator_fn at 0x78d67a148540>   \n",
       "\n",
       "                                           calc_output  \n",
       "0    EngineOutput(\\n  convergence=True,\\n  energies...  \n",
       "1    EngineOutput(\\n  convergence=True,\\n  energies...  \n",
       "2    EngineOutput(\\n  convergence=True,\\n  energies...  \n",
       "3    EngineOutput(\\n  convergence=True,\\n  energies...  \n",
       "4    EngineOutput(\\n  convergence=True,\\n  energies...  \n",
       "..                                                 ...  \n",
       "115  EngineOutput(\\n  convergence=True,\\n  energies...  \n",
       "116  EngineOutput(\\n  convergence=True,\\n  energies...  \n",
       "117  EngineOutput(\\n  convergence=True,\\n  energies...  \n",
       "118  EngineOutput(\\n  convergence=True,\\n  energies...  \n",
       "119  EngineOutput(\\n  convergence=True,\\n  energies...  \n",
       "\n",
       "[120 rows x 4 columns]"
      ]
     },
     "execution_count": 14,
     "metadata": {},
     "output_type": "execute_result"
    }
   ],
   "source": [
    "wf2.gb_seg_calcs.outputs.to_value_dict()[\"gb_seg_calcs_df\"]"
   ]
  },
  {
   "cell_type": "code",
   "execution_count": null,
   "id": "875c968a",
   "metadata": {},
   "outputs": [],
   "source": []
  }
 ],
 "metadata": {
  "kernelspec": {
   "display_name": "pyiron_workflow_atomistics",
   "language": "python",
   "name": "python3"
  },
  "language_info": {
   "codemirror_mode": {
    "name": "ipython",
    "version": 3
   },
   "file_extension": ".py",
   "mimetype": "text/x-python",
   "name": "python",
   "nbconvert_exporter": "python",
   "pygments_lexer": "ipython3",
   "version": "3.13.5"
  }
 },
 "nbformat": 4,
 "nbformat_minor": 5
}
